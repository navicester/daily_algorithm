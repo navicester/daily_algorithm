{
 "cells": [
  {
   "cell_type": "code",
   "execution_count": null,
   "metadata": {},
   "outputs": [],
   "source": [
    "class Student(object):\n",
    "    def __init__(self, name):\n",
    "        self.name = name\n",
    "\n",
    "print(Student('tom'))  "
   ]
  },
  {
   "cell_type": "code",
   "execution_count": null,
   "metadata": {},
   "outputs": [],
   "source": [
    "class Student(object):\n",
    "    def __init__(self, name):\n",
    "        self.name = name\n",
    "    def __str__(self):\n",
    "        return 'Student object (name : %s)' % self.name\n",
    "    \n",
    "print(Student('tom'))  "
   ]
  },
  {
   "cell_type": "code",
   "execution_count": null,
   "metadata": {},
   "outputs": [],
   "source": [
    "class func(object):\n",
    "    pass\n",
    "s= func()\n",
    "print(callable(s))\n",
    "s()"
   ]
  },
  {
   "cell_type": "code",
   "execution_count": null,
   "metadata": {},
   "outputs": [],
   "source": [
    "class func(object):\n",
    "    def __call__(self):\n",
    "        print(\"I am callable\")\n",
    "print(callable(func))\n",
    "s= func()\n",
    "print(callable(s))\n",
    "s()"
   ]
  },
  {
   "cell_type": "code",
   "execution_count": null,
   "metadata": {},
   "outputs": [],
   "source": [
    "class Student(object):\n",
    "    __slot__ = (name, age) # use tuple to defined the attributes which can be binded\n",
    "    \n",
    "s = Student()\n",
    "s.name = 'tom' # bind attribute \"name\"\n",
    "s.age = 25 # bind attribute \"age\"\n",
    "s.score = 99 # bind attribute \"score\"\n"
   ]
  },
  {
   "cell_type": "code",
   "execution_count": null,
   "metadata": {},
   "outputs": [],
   "source": [
    "class Student(object):\n",
    "    pass\n",
    "\n",
    "s = Student()\n",
    "s.name ='tom'\n",
    "print(s.name)\n",
    "def set_age(self, age):\n",
    "    self.age = age\n",
    "\n",
    "from types import MethodType\n",
    "s.set_age = MethodType(set_age, s)\n",
    "s.set_age(25)\n",
    "s.age\n",
    "s2 = Student()\n",
    "s2.set_age(25)\n",
    "def set_score(self, score):\n",
    "    self.score = score\n",
    "\n",
    "Student.set_score = set_score\n",
    "s.set_score(100)\n",
    "s.score\n",
    "s2.set_score(99)\n",
    "s2.score"
   ]
  },
  {
   "cell_type": "code",
   "execution_count": null,
   "metadata": {},
   "outputs": [],
   "source": [
    "from enum import Enum, unique\n",
    "@unique\n",
    "class WeekDay(Enum):\n",
    "    Sun = 0 # 值可以不连续，随意指定\n",
    "    Mon = 1.1\n",
    "    Tue = 2\n",
    "    Wed = 3\n",
    "    Thu = 4\n",
    "    Fri = 5\n",
    "    Sat = 6\n",
    "\n",
    "print(WeekDay.Sun.name, WeekDay.Sun.value)\n",
    "print(WeekDay.Sun == WeekDay.Mon, WeekDay.Sun is WeekDay.Mon) # False, False\n",
    "for day in WeekDay:\n",
    "    print(day, day.name, day.value)\n",
    "    \n",
    "print(WeekDay.Tue)\n",
    "print(WeekDay['Tue'])\n",
    "print(WeekDay.Tue.value)\n",
    "for name,member in WeekDay.__members__.items():\n",
    "    print(name, '=>', member)"
   ]
  },
  {
   "cell_type": "code",
   "execution_count": null,
   "metadata": {},
   "outputs": [],
   "source": [
    "class MyObject(object):\n",
    "    name = \"MyObject\"\n",
    "    def __init__(self, num):\n",
    "        self.num = num\n",
    "    def power(self):\n",
    "        return self.num * self.num\n",
    "    \n",
    "print(dir(MyObject))\n"
   ]
  },
  {
   "cell_type": "code",
   "execution_count": null,
   "metadata": {},
   "outputs": [],
   "source": [
    "class MyObject(object):\n",
    "    name = \"MyObject\"\n",
    "    def __init__(self, num):\n",
    "        self.x = num\n",
    "        self._z = num\n",
    "    def power(self):\n",
    "        return self.x * self.x\n",
    "    \n",
    "obj = MyObject(1)\n",
    "print(hasattr(obj, 'x')) # True\n",
    "print(hasattr(obj, 'z')) # False\n",
    "hasattr(obj, 'y') # False\n",
    "setattr(obj, 'y', 19) # set attribute y\n",
    "hasattr(obj, 'y') # True\n",
    "obj.y # 19\n",
    "hasattr(obj, 'power')\n",
    "getattr(obj, 'power')\n",
    "fn = getattr(obj, 'power')\n",
    "fn # pointer to object.power\n",
    "fn()\n"
   ]
  },
  {
   "cell_type": "code",
   "execution_count": null,
   "metadata": {},
   "outputs": [],
   "source": [
    "def enroll(name, gender, age=6, city= 'beijing'):\n",
    "    print('name', name)\n",
    "    print('gender', gender)\n",
    "    print('age', age)\n",
    "    print('city', city)"
   ]
  },
  {
   "cell_type": "code",
   "execution_count": null,
   "metadata": {},
   "outputs": [],
   "source": [
    "from multiprocessing import Process\n",
    "import os\n",
    "\n",
    "# 子进程要执行的代码\n",
    "def run_proc(name):\n",
    "    print 'Run child process %s (%s)...' % (name, os.getpid())\n",
    "\n",
    "if __name__=='__main__':\n",
    "    print 'Parent process %s.' % os.getpid()\n",
    "    p = Process(target=run_proc, args=('test',))\n",
    "    print 'Process will start.'\n",
    "    p.start()\n",
    "    p.join() # 等待进程结束再往下走，通常用于进程间的同步\n",
    "    print 'Process end.'"
   ]
  },
  {
   "cell_type": "code",
   "execution_count": null,
   "metadata": {},
   "outputs": [],
   "source": []
  }
 ],
 "metadata": {
  "kernelspec": {
   "display_name": "Python 3",
   "language": "python",
   "name": "python3"
  },
  "language_info": {
   "codemirror_mode": {
    "name": "ipython",
    "version": 3
   },
   "file_extension": ".py",
   "mimetype": "text/x-python",
   "name": "python",
   "nbconvert_exporter": "python",
   "pygments_lexer": "ipython3",
   "version": "3.5.4"
  }
 },
 "nbformat": 4,
 "nbformat_minor": 2
}
