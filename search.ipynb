{
 "cells": [
  {
   "cell_type": "markdown",
   "metadata": {},
   "source": [
    "# 1. half search 二分查找/折半查找"
   ]
  },
  {
   "cell_type": "markdown",
   "metadata": {},
   "source": [
    "### 1、算法思想\n",
    " 二分查找采用分而治之的思想。要求被查找的集合必须是有序的。主要思路：\n",
    "根据起始位置和结束位置，确定中间位置。\n",
    "拿目标值与中间位置的值做比较，假如目标值大于中间位置取值，则起始位置为中间位置加1。\n",
    "假如目标值小于中间位置取值，则结束位置为中间位置减1。\n",
    "直至起始位置小于等于结束位置，找到目标值的位置即索引。"
   ]
  },
  {
   "cell_type": "code",
   "execution_count": 4,
   "metadata": {},
   "outputs": [
    {
     "name": "stdout",
     "output_type": "stream",
     "text": [
      "4\n"
     ]
    }
   ],
   "source": [
    "# my solution\n",
    "def half_search(arr, val):\n",
    "    import math    \n",
    "    left = 0\n",
    "    right = len(arr)-1\n",
    "    while left <= right:\n",
    "        mid = math.floor((right+left)/2)\n",
    "        if val == arr[mid]:\n",
    "            return mid\n",
    "        elif val > arr[mid]:\n",
    "            left = mid+1\n",
    "        else:\n",
    "            right = mid-1\n",
    "    return None\n",
    "\n",
    "l=[1,2,3,5,7,8,9,34,56,78]\n",
    "print(half_search(l,7))\n",
    "        "
   ]
  },
  {
   "cell_type": "code",
   "execution_count": 1,
   "metadata": {},
   "outputs": [],
   "source": [
    "# my solution 2\n",
    "def binary_search(list, item):\n",
    "    low = 0\n",
    "    high = len(list)-1\n",
    "    while(low<high):\n",
    "        middle = int((low+high)/2)\n",
    "        guess = list[middle]\n",
    "        if guess == item:\n",
    "            return middle\n",
    "        elif guess < item:\n",
    "            low = middle\n",
    "        else:\n",
    "            high = middle\n",
    "    return None"
   ]
  },
  {
   "cell_type": "markdown",
   "metadata": {},
   "source": [
    "# 2. sequential search 顺序查找"
   ]
  },
  {
   "cell_type": "code",
   "execution_count": 6,
   "metadata": {},
   "outputs": [
    {
     "name": "stdout",
     "output_type": "stream",
     "text": [
      "4\n"
     ]
    }
   ],
   "source": [
    "def sequential_search(arr, val):\n",
    "    for i,value in enumerate(arr):\n",
    "        if val == value:\n",
    "            return i\n",
    "    return None\n",
    "\n",
    "l=[1,2,3,5,7,8,9,34,56,78]\n",
    "print(sequential_search(l,7))"
   ]
  },
  {
   "cell_type": "code",
   "execution_count": null,
   "metadata": {},
   "outputs": [],
   "source": []
  }
 ],
 "metadata": {
  "kernelspec": {
   "display_name": "Python 3",
   "language": "python",
   "name": "python3"
  },
  "language_info": {
   "codemirror_mode": {
    "name": "ipython",
    "version": 3
   },
   "file_extension": ".py",
   "mimetype": "text/x-python",
   "name": "python",
   "nbconvert_exporter": "python",
   "pygments_lexer": "ipython3",
   "version": "3.7.4"
  }
 },
 "nbformat": 4,
 "nbformat_minor": 4
}
