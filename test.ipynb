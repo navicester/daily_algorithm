{
 "cells": [
  {
   "cell_type": "code",
   "execution_count": 6,
   "metadata": {},
   "outputs": [
    {
     "name": "stdout",
     "output_type": "stream",
     "text": [
      "Parent process 10268.\n",
      "Process will start.\n",
      "Process end.\n"
     ]
    }
   ],
   "source": [
    "from multiprocessing import Process\n",
    "import os\n",
    "\n",
    "# 子进程要执行的代码\n",
    "def run_proc(name):\n",
    "    print('Run child process %s (%s)...' % (name, os.getpid()))\n",
    "\n",
    "if __name__=='__main__':\n",
    "    print('Parent process %s.' % os.getpid())\n",
    "    p = Process(target=run_proc, args=('test',))\n",
    "    print('Process will start.')\n",
    "    p.start()\n",
    "    p.join() # 等待进程结束再往下走，通常用于进程间的同步\n",
    "    print('Process end.')"
   ]
  },
  {
   "cell_type": "code",
   "execution_count": 8,
   "metadata": {},
   "outputs": [
    {
     "name": "stdout",
     "output_type": "stream",
     "text": [
      "b'\\xe5\\xb0\\x8f\\xe6\\x98\\x8e' b'\\xd0\\xa1\\xc3\\xf7'\n",
      "b'\\xe5\\xb0\\x8f\\xe6\\x98\\x8e' b'\\xd0\\xa1\\xc3\\xf7'\n",
      "b'abc' abc\n"
     ]
    }
   ],
   "source": [
    "str = '小明'\n",
    "str_utf8 = str.encode('utf-8') # byte对象, utf-8编码\n",
    "str_gbk = str.encode('GBK') # byte对象, GBK编码\n",
    "print(str_utf8, str_gbk)\n",
    "# b'\\xe5\\xb0\\x8f\\xe6\\x98\\x8e' b'\\xd0\\xa1\\xc3\\xf7'\n",
    "\n",
    "str_utf8 = bytes(str, encoding='utf-8')\n",
    "str_gbk = bytes(str, encoding='GBK')\n",
    "print(str_utf8, str_gbk)\n",
    "# b'\\xe5\\xb0\\x8f\\xe6\\x98\\x8e' b'\\xd0\\xa1\\xc3\\xf7'\n",
    "\n",
    "str_utf8 = b'abc'\n",
    "print(str_utf8, str_utf8.decode('utf-8'))\n",
    "# b'abc' abc\n",
    "\n",
    "# str_utf8 = b'小明' # SyntaxError: bytes can only contain ASCII literal characters.\n"
   ]
  },
  {
   "cell_type": "code",
   "execution_count": 9,
   "metadata": {},
   "outputs": [
    {
     "name": "stdout",
     "output_type": "stream",
     "text": [
      "a+b=  hellopython\n",
      "a*2=  hellohello\n",
      "h is in a\n",
      "M is in a\n"
     ]
    }
   ],
   "source": [
    "a = 'hello'\n",
    "b = 'python'\n",
    "print('a+b= ', a+b)\n",
    "print('a*2= ', a*2)\n",
    "if ('h' in a):\n",
    "    print(\"h is in a\")\n",
    "else:\n",
    "    print(\"h is not in a\")\n",
    "\n",
    "if ('M' not in a):\n",
    "    print(\"M is in a\")\n",
    "else:\n",
    "    print(\"M is not in a\")"
   ]
  },
  {
   "cell_type": "code",
   "execution_count": 11,
   "metadata": {},
   "outputs": [
    {
     "name": "stdout",
     "output_type": "stream",
     "text": [
      "b'abc'\n",
      "123\n",
      "\\ is not an escape char\\n \t Enter \n",
      "\n",
      "\\a is not escaped \\n \t Enter \n",
      "\n",
      "-S.1\t\n",
      "-\\123.1\\t\n"
     ]
    }
   ],
   "source": [
    "print(b'abc')\n",
    "print(u'123')\n",
    "print(r'\\ is not an escape char\\n', '\\t Enter \\n')\n",
    "print(R'\\a is not escaped \\n', '\\t Enter \\n')\n",
    "print('-\\123.1\\t')\n",
    "print(r'-\\123.1\\t')"
   ]
  },
  {
   "cell_type": "code",
   "execution_count": 13,
   "metadata": {},
   "outputs": [
    {
     "name": "stdout",
     "output_type": "stream",
     "text": [
      "try...\n",
      "ZeroDivisionError:  division by zero\n",
      "finally!\n",
      "END\n"
     ]
    }
   ],
   "source": [
    "try:\n",
    "    print(\"try...\")\n",
    "    r = 10 / int('0')\n",
    "    print('result: ', r)\n",
    "except ValueError as e:\n",
    "    print(\"ValueError: \", e)\n",
    "except ZeroDivisionError as e:\n",
    "    print(\"ZeroDivisionError: \", e)\n",
    "else:\n",
    "    print(\"no error!\")\n",
    "finally:\n",
    "    print(\"finally!\")\n",
    "print(\"END\")"
   ]
  },
  {
   "cell_type": "code",
   "execution_count": 15,
   "metadata": {},
   "outputs": [
    {
     "name": "stderr",
     "output_type": "stream",
     "text": [
      "ERROR:root:division by zero\n",
      "Traceback (most recent call last):\n",
      "  File \"<ipython-input-15-bab9ae15715d>\", line 8, in main\n",
      "    bar('0')\n",
      "  File \"<ipython-input-15-bab9ae15715d>\", line 5, in bar\n",
      "    return foo(s) * 2\n",
      "  File \"<ipython-input-15-bab9ae15715d>\", line 3, in foo\n",
      "    return 10 / int(s)\n",
      "ZeroDivisionError: division by zero\n"
     ]
    }
   ],
   "source": [
    "import logging\n",
    "def foo(s):\n",
    "    return 10 / int(s)\n",
    "def bar(s):\n",
    "    return foo(s) * 2\n",
    "def main():\n",
    "    try:\n",
    "        bar('0')\n",
    "    except Exception as e:\n",
    "        logging.exception(e)\n",
    "\n",
    "main()"
   ]
  },
  {
   "cell_type": "code",
   "execution_count": 16,
   "metadata": {},
   "outputs": [
    {
     "name": "stdout",
     "output_type": "stream",
     "text": [
      "ValueError!\n"
     ]
    }
   ],
   "source": [
    "def fun1(s):\n",
    "    n = int(s)\n",
    "    if n==0:\n",
    "        raise ValueError('Invalid value: %s' % s)\n",
    "    return 10 / n\n",
    "\n",
    "def fun2():\n",
    "    try:\n",
    "        fun1('0')\n",
    "    except ValueError as e:\n",
    "        print('ValueError!')\n",
    "        \n",
    "fun2()        "
   ]
  },
  {
   "cell_type": "code",
   "execution_count": 18,
   "metadata": {},
   "outputs": [
    {
     "name": "stdout",
     "output_type": "stream",
     "text": [
      "MyError!\n"
     ]
    }
   ],
   "source": [
    "class MyError(ValueError):\n",
    "    pass\n",
    "\n",
    "def fun1(s):\n",
    "    n = int(s)\n",
    "    if n==0:\n",
    "        raise MyError('Invalid value: %s' % s)\n",
    "    return 10 / n\n",
    "\n",
    "def fun2():\n",
    "    try:\n",
    "        fun1('0')\n",
    "    except MyError as e:\n",
    "        print('MyError!')\n",
    "        \n",
    "fun2()        "
   ]
  },
  {
   "cell_type": "code",
   "execution_count": 20,
   "metadata": {},
   "outputs": [
    {
     "name": "stdout",
     "output_type": "stream",
     "text": [
      "2019-02-17 17:09:55,728 INFO    : this is debug information\n"
     ]
    },
    {
     "name": "stderr",
     "output_type": "stream",
     "text": [
      "INFO:AppName:this is debug information\n"
     ]
    },
    {
     "name": "stdout",
     "output_type": "stream",
     "text": [
      "2019-02-17 17:09:55,731 WARNING : this is warning message\n"
     ]
    },
    {
     "name": "stderr",
     "output_type": "stream",
     "text": [
      "WARNING:AppName:this is warning message\n"
     ]
    },
    {
     "name": "stdout",
     "output_type": "stream",
     "text": [
      "2019-02-17 17:09:55,755 ERROR   : this is error message\n"
     ]
    },
    {
     "name": "stderr",
     "output_type": "stream",
     "text": [
      "ERROR:AppName:this is error message\n"
     ]
    },
    {
     "name": "stdout",
     "output_type": "stream",
     "text": [
      "2019-02-17 17:09:55,756 CRITICAL: this is fatal message, it is same as logger.critical\n"
     ]
    },
    {
     "name": "stderr",
     "output_type": "stream",
     "text": [
      "CRITICAL:AppName:this is fatal message, it is same as logger.critical\n"
     ]
    },
    {
     "name": "stdout",
     "output_type": "stream",
     "text": [
      "2019-02-17 17:09:55,781 CRITICAL: this is critical messager\n"
     ]
    },
    {
     "name": "stderr",
     "output_type": "stream",
     "text": [
      "CRITICAL:AppName:this is critical messager\n"
     ]
    }
   ],
   "source": [
    "import logging, sys\n",
    "logger = logging.getLogger('AppName')  # get logging instance, if param is None, return root logger\n",
    "# logging output formatting\n",
    "formatter = logging.Formatter('%(asctime)s %(levelname)-8s: %(message)s')\n",
    "filter = logging.Filter() # filter object\n",
    "file_handler = logging.FileHandler('test-logging.log') # file log handler\n",
    "file_handler.addFilter(filter) # add filter\n",
    "file_handler.setFormatter(formatter)\n",
    "console_handler = logging.StreamHandler(sys.stdout)\n",
    "console_handler.addFilter(filter)\n",
    "# console_handler.formatter(formatter) # TypeError: 'NoneType' object is not callable\n",
    "console_handler.setFormatter(formatter)\n",
    "# add log handler\n",
    "logger.addHandler(file_handler)\n",
    "logger.addHandler(console_handler)\n",
    "logger.setLevel(logging.INFO)\n",
    "logger.debug('this is debug debug info')\n",
    "logger.info('this is debug information')\n",
    "logger.warning('this is warning message')\n",
    "logger.error('this is error message')\n",
    "logger.fatal('this is fatal message, it is same as logger.critical')\n",
    "logger.critical('this is critical messager')\n",
    "logger.removeHandler(file_handler)"
   ]
  },
  {
   "cell_type": "code",
   "execution_count": 21,
   "metadata": {},
   "outputs": [
    {
     "name": "stdout",
     "output_type": "stream",
     "text": [
      "2000\n",
      "2001\n",
      "{'_i1': \"from multiprocessing import Process\\nimport os\\n\\n# 子进程要执行的代码\\ndef run_proc(name):\\n    print 'Run child process %s (%s)...' % (name, os.getpid())\\n\\nif __name__=='__main__':\\n    print 'Parent process %s.' % os.getpid()\\n    p = Process(target=run_proc, args=('test',))\\n    print 'Process will start.'\\n    p.start()\\n    p.join() # 等待进程结束再往下走，通常用于进程间的同步\\n    print 'Process end.'\", 'MyError': <class '__main__.MyError'>, 'quit': <IPython.core.autocall.ZMQExitAutocall object at 0x00000000047C0B00>, 'r': 5.0, '_dh': ['C:\\\\Users\\\\Administrator'], '_i15': \"import logging\\ndef foo(s):\\n    return 10 / int(s)\\ndef bar(s):\\n    return foo(s) * 2\\ndef main():\\n    try:\\n        bar('0')\\n    except Exception as e:\\n        logging.exception(e)\\n\\nmain()\", '_i12': 'try:\\n    print(\"try...\")\\n    r = 10 / int(\\'2\\')\\n    print(\\'result: \\', r)\\nexcept ValueError as e:\\n    print(\"ValueError: \", e)\\nexcept ZeroDivisionError as e:\\n    print(\"ZeroDivisionError: \", e)\\nelse:\\n    print(\"no error!\")\\nfinally:\\n    print(\"finally!\")\\nprint(\"END\")', 'str_utf8': b'abc', 'exit': <IPython.core.autocall.ZMQExitAutocall object at 0x00000000047C0B00>, '_i3': \"from multiprocessing import Process\\nimport os\\n\\n# 子进程要执行的代码\\ndef run_proc(name):\\n    print('Run child process %s (%s)...' % (name, os.getpid()))\\n\\nprint 'Parent process %s.' % os.getpid()\\np = Process(target=run_proc, args=('test',))\\nprint 'Process will start.'\\np.start()\\np.join() # 等待进程结束再往下走，通常用于进程间的同步\\nprint 'Process end.'\", '_ih': ['', \"from multiprocessing import Process\\nimport os\\n\\n# 子进程要执行的代码\\ndef run_proc(name):\\n    print 'Run child process %s (%s)...' % (name, os.getpid())\\n\\nif __name__=='__main__':\\n    print 'Parent process %s.' % os.getpid()\\n    p = Process(target=run_proc, args=('test',))\\n    print 'Process will start.'\\n    p.start()\\n    p.join() # 等待进程结束再往下走，通常用于进程间的同步\\n    print 'Process end.'\", \"from multiprocessing import Process\\nimport os\\n\\n# 子进程要执行的代码\\ndef run_proc(name):\\n    print 'Run child process %s (%s)...' % (name, os.getpid())\\n\\nprint 'Parent process %s.' % os.getpid()\\np = Process(target=run_proc, args=('test',))\\nprint 'Process will start.'\\np.start()\\np.join() # 等待进程结束再往下走，通常用于进程间的同步\\nprint 'Process end.'\", \"from multiprocessing import Process\\nimport os\\n\\n# 子进程要执行的代码\\ndef run_proc(name):\\n    print('Run child process %s (%s)...' % (name, os.getpid()))\\n\\nprint 'Parent process %s.' % os.getpid()\\np = Process(target=run_proc, args=('test',))\\nprint 'Process will start.'\\np.start()\\np.join() # 等待进程结束再往下走，通常用于进程间的同步\\nprint 'Process end.'\", \"from multiprocessing import Process\\nimport os\\n\\n# 子进程要执行的代码\\ndef run_proc(name):\\n    print('Run child process %s (%s)...' % (name, os.getpid()))\\n\\nprint('Parent process %s.' % os.getpid())\\np = Process(target=run_proc, args=('test',))\\nprint('Process will start.')\\np.start()\\np.join() # 等待进程结束再往下走，通常用于进程间的同步\\nprint('Process end.')\", \"from multiprocessing import Process\\nimport os\\n\\n# 子进程要执行的代码\\ndef run_proc(name):\\n    print('Run child process %s (%s)...' % (name, os.getpid()))\\n\\nif __name__=='__main__'\\n    print('Parent process %s.' % os.getpid())\\n    p = Process(target=run_proc, args=('test',))\\n    print('Process will start.')\\n    p.start()\\n    p.join() # 等待进程结束再往下走，通常用于进程间的同步\\n    print('Process end.')\", \"from multiprocessing import Process\\nimport os\\n\\n# 子进程要执行的代码\\ndef run_proc(name):\\n    print('Run child process %s (%s)...' % (name, os.getpid()))\\n\\nif __name__=='__main__':\\n    print('Parent process %s.' % os.getpid())\\n    p = Process(target=run_proc, args=('test',))\\n    print('Process will start.')\\n    p.start()\\n    p.join() # 等待进程结束再往下走，通常用于进程间的同步\\n    print('Process end.')\", \"str = '小明'\\nstr_utf8 = str.encode('utf-8') # byte对象, utf-8编码\\nstr_gbk = str.encode('GBK') # byte对象, GBK编码\\nprint(str_utf8, str_gbk)\\nstr_utf8 = bytes(str, encoding='utf-8')\\nstr_gbk = bytes(str, encoding='GBK')\\nprint(str_utf8, str_gbk)\\nstr_utf8 = b'abc'\\nprint(str_utf8, str_utf8.decode('utf-8'))\\nstr_utf8 = b'小明'\", \"str = '小明'\\nstr_utf8 = str.encode('utf-8') # byte对象, utf-8编码\\nstr_gbk = str.encode('GBK') # byte对象, GBK编码\\nprint(str_utf8, str_gbk)\\nstr_utf8 = bytes(str, encoding='utf-8')\\nstr_gbk = bytes(str, encoding='GBK')\\nprint(str_utf8, str_gbk)\\nstr_utf8 = b'abc'\\nprint(str_utf8, str_utf8.decode('utf-8'))\\n# str_utf8 = b'小明' # SyntaxError: bytes can only contain ASCII literal characters.\", 'a = \\'hello\\'\\nb = \\'python\\'\\nprint(\\'a+b= \\', a+b)\\nprint(\\'a*2= \\', a*2)\\nif (\\'h\\' in a):\\n    print(\"h is in a\")\\nelse:\\n    print(\"h is not in a\")\\n\\nif (\\'M\\' not in a):\\n    print(\"M is in a\")\\nelse:\\n    print(\"M is not in a\")', \"print(b'abc')\\nprint(u'123')\\nprint(r'\\\\ is not escape char\\\\n', '\\\\t Enter \\\\n')\\nprint(R'\\\\a is not escaped \\\\n', '\\\\t Enter \\\\n')\\nprint('-\\\\123.1\\\\t')\\nprint(r'-\\\\123.1\\\\t')\", \"print(b'abc')\\nprint(u'123')\\nprint(r'\\\\ is not an escape char\\\\n', '\\\\t Enter \\\\n')\\nprint(R'\\\\a is not escaped \\\\n', '\\\\t Enter \\\\n')\\nprint('-\\\\123.1\\\\t')\\nprint(r'-\\\\123.1\\\\t')\", 'try:\\n    print(\"try...\")\\n    r = 10 / int(\\'2\\')\\n    print(\\'result: \\', r)\\nexcept ValueError as e:\\n    print(\"ValueError: \", e)\\nexcept ZeroDivisionError as e:\\n    print(\"ZeroDivisionError: \", e)\\nelse:\\n    print(\"no error!\")\\nfinally:\\n    print(\"finally!\")\\nprint(\"END\")', 'try:\\n    print(\"try...\")\\n    r = 10 / int(\\'0\\')\\n    print(\\'result: \\', r)\\nexcept ValueError as e:\\n    print(\"ValueError: \", e)\\nexcept ZeroDivisionError as e:\\n    print(\"ZeroDivisionError: \", e)\\nelse:\\n    print(\"no error!\")\\nfinally:\\n    print(\"finally!\")\\nprint(\"END\")', \"import logging\\ndef foo(s):\\n    return 10 / int(s)\\ndef bar(s):\\n    return foo(s) * 2\\ndef main():\\n    try:\\n        bar('0')\\n    except Exception as e:\\n        logging.exception(e)\\n        \", \"import logging\\ndef foo(s):\\n    return 10 / int(s)\\ndef bar(s):\\n    return foo(s) * 2\\ndef main():\\n    try:\\n        bar('0')\\n    except Exception as e:\\n        logging.exception(e)\\n\\nmain()\", \"def fun1(s):\\n    n = int(s)\\n    if n==0:\\n        raise ValueError('Invalid value: %s' % s)\\n    return 10 / n\\n\\ndef fun2():\\n    try:\\n        fun1('0')\\n    except ValueError as e:\\n        print('ValueError!')\\n        \\nfun2()        \", \"class MyError(ValueError):\\n    pass\\n\\ndef fun1(s):\\n    n = int(s)\\n    if n==0:\\n        raise MyError('Invalid value: %s' % s)\\n    return 10 / n\\n\\ndef fun2():\\n    try:\\n        fun1('0')\\n    except MyError as e:\\n        print('ValueError!')\\n        \\nfun2()        \", \"class MyError(ValueError):\\n    pass\\n\\ndef fun1(s):\\n    n = int(s)\\n    if n==0:\\n        raise MyError('Invalid value: %s' % s)\\n    return 10 / n\\n\\ndef fun2():\\n    try:\\n        fun1('0')\\n    except MyError as e:\\n        print('MyError!')\\n        \\nfun2()        \", \"import logging, sys\\nlogger = logging.getLogger('AppName')  # get logging instance, if param is None, return root logger\\n# logging output formatting\\nformatter = logging.Formatter('%(asctime)s %(levelname)-8s: %(message)s')\\nfilter = logging.Filter() # filter object\\nfile_handler = logging.FileHandler('test.log') # file log handler\\nfile_handler.addFilter(filter) # add filter\\nfile_handler.setFormatter(formatter)\\nconsole_handler = logging.StreamHandler(sys.stdout)\\nconsole_handler.addFilter(filter)\\nconsole_handler.formatter(formatter)\\n# add log handler\\nlogger.addHandler(file_handler)\\nlogger.addHandler(console_handler)\\nlogger.setLevel(logging.INFO)\\nlogger.debug('this is debug debug info')\\nlogger.info('this is debug information')\\nlogger.warning('this is warning message')\\nlogger.error('this is error message')\\nlogger.fatal('this is fatal message, it is same as logger.critical')\\nlogger.critical('this is critical messager')\\nlogger.removeHandler(file_handler)\", \"import logging, sys\\nlogger = logging.getLogger('AppName')  # get logging instance, if param is None, return root logger\\n# logging output formatting\\nformatter = logging.Formatter('%(asctime)s %(levelname)-8s: %(message)s')\\nfilter = logging.Filter() # filter object\\nfile_handler = logging.FileHandler('test-logging.log') # file log handler\\nfile_handler.addFilter(filter) # add filter\\nfile_handler.setFormatter(formatter)\\nconsole_handler = logging.StreamHandler(sys.stdout)\\nconsole_handler.addFilter(filter)\\n# console_handler.formatter(formatter) # TypeError: 'NoneType' object is not callable\\nconsole_handler.setFormatter(formatter)\\n# add log handler\\nlogger.addHandler(file_handler)\\nlogger.addHandler(console_handler)\\nlogger.setLevel(logging.INFO)\\nlogger.debug('this is debug debug info')\\nlogger.info('this is debug information')\\nlogger.warning('this is warning message')\\nlogger.error('this is error message')\\nlogger.fatal('this is fatal message, it is same as logger.critical')\\nlogger.critical('this is critical messager')\\nlogger.removeHandler(file_handler)\", 'Money = 2000\\ndef AddMoney():\\n    global Money\\n    Money = Money + 1\\nprint(Money)\\nAddMoney()\\nprint(Money)\\nprint(globals())\\nprint(locals())'], 'main': <function main at 0x0000000004868AE8>, '_i21': 'Money = 2000\\ndef AddMoney():\\n    global Money\\n    Money = Money + 1\\nprint(Money)\\nAddMoney()\\nprint(Money)\\nprint(globals())\\nprint(locals())', '_i13': 'try:\\n    print(\"try...\")\\n    r = 10 / int(\\'0\\')\\n    print(\\'result: \\', r)\\nexcept ValueError as e:\\n    print(\"ValueError: \", e)\\nexcept ZeroDivisionError as e:\\n    print(\"ZeroDivisionError: \", e)\\nelse:\\n    print(\"no error!\")\\nfinally:\\n    print(\"finally!\")\\nprint(\"END\")', '__package__': None, 'os': <module 'os' from 'd:\\\\python35\\\\lib\\\\os.py'>, 'Out': {}, '_i': \"import logging, sys\\nlogger = logging.getLogger('AppName')  # get logging instance, if param is None, return root logger\\n# logging output formatting\\nformatter = logging.Formatter('%(asctime)s %(levelname)-8s: %(message)s')\\nfilter = logging.Filter() # filter object\\nfile_handler = logging.FileHandler('test-logging.log') # file log handler\\nfile_handler.addFilter(filter) # add filter\\nfile_handler.setFormatter(formatter)\\nconsole_handler = logging.StreamHandler(sys.stdout)\\nconsole_handler.addFilter(filter)\\n# console_handler.formatter(formatter) # TypeError: 'NoneType' object is not callable\\nconsole_handler.setFormatter(formatter)\\n# add log handler\\nlogger.addHandler(file_handler)\\nlogger.addHandler(console_handler)\\nlogger.setLevel(logging.INFO)\\nlogger.debug('this is debug debug info')\\nlogger.info('this is debug information')\\nlogger.warning('this is warning message')\\nlogger.error('this is error message')\\nlogger.fatal('this is fatal message, it is same as logger.critical')\\nlogger.critical('this is critical messager')\\nlogger.removeHandler(file_handler)\", 'logger': <logging.Logger object at 0x0000000004A92048>, 'b': 'python', 'console_handler': <logging.StreamHandler object at 0x0000000004A920B8>, '_i10': \"print(b'abc')\\nprint(u'123')\\nprint(r'\\\\ is not escape char\\\\n', '\\\\t Enter \\\\n')\\nprint(R'\\\\a is not escaped \\\\n', '\\\\t Enter \\\\n')\\nprint('-\\\\123.1\\\\t')\\nprint(r'-\\\\123.1\\\\t')\", 'AddMoney': <function AddMoney at 0x0000000004888950>, 'Money': 2001, '__name__': '__main__', 'In': ['', \"from multiprocessing import Process\\nimport os\\n\\n# 子进程要执行的代码\\ndef run_proc(name):\\n    print 'Run child process %s (%s)...' % (name, os.getpid())\\n\\nif __name__=='__main__':\\n    print 'Parent process %s.' % os.getpid()\\n    p = Process(target=run_proc, args=('test',))\\n    print 'Process will start.'\\n    p.start()\\n    p.join() # 等待进程结束再往下走，通常用于进程间的同步\\n    print 'Process end.'\", \"from multiprocessing import Process\\nimport os\\n\\n# 子进程要执行的代码\\ndef run_proc(name):\\n    print 'Run child process %s (%s)...' % (name, os.getpid())\\n\\nprint 'Parent process %s.' % os.getpid()\\np = Process(target=run_proc, args=('test',))\\nprint 'Process will start.'\\np.start()\\np.join() # 等待进程结束再往下走，通常用于进程间的同步\\nprint 'Process end.'\", \"from multiprocessing import Process\\nimport os\\n\\n# 子进程要执行的代码\\ndef run_proc(name):\\n    print('Run child process %s (%s)...' % (name, os.getpid()))\\n\\nprint 'Parent process %s.' % os.getpid()\\np = Process(target=run_proc, args=('test',))\\nprint 'Process will start.'\\np.start()\\np.join() # 等待进程结束再往下走，通常用于进程间的同步\\nprint 'Process end.'\", \"from multiprocessing import Process\\nimport os\\n\\n# 子进程要执行的代码\\ndef run_proc(name):\\n    print('Run child process %s (%s)...' % (name, os.getpid()))\\n\\nprint('Parent process %s.' % os.getpid())\\np = Process(target=run_proc, args=('test',))\\nprint('Process will start.')\\np.start()\\np.join() # 等待进程结束再往下走，通常用于进程间的同步\\nprint('Process end.')\", \"from multiprocessing import Process\\nimport os\\n\\n# 子进程要执行的代码\\ndef run_proc(name):\\n    print('Run child process %s (%s)...' % (name, os.getpid()))\\n\\nif __name__=='__main__'\\n    print('Parent process %s.' % os.getpid())\\n    p = Process(target=run_proc, args=('test',))\\n    print('Process will start.')\\n    p.start()\\n    p.join() # 等待进程结束再往下走，通常用于进程间的同步\\n    print('Process end.')\", \"from multiprocessing import Process\\nimport os\\n\\n# 子进程要执行的代码\\ndef run_proc(name):\\n    print('Run child process %s (%s)...' % (name, os.getpid()))\\n\\nif __name__=='__main__':\\n    print('Parent process %s.' % os.getpid())\\n    p = Process(target=run_proc, args=('test',))\\n    print('Process will start.')\\n    p.start()\\n    p.join() # 等待进程结束再往下走，通常用于进程间的同步\\n    print('Process end.')\", \"str = '小明'\\nstr_utf8 = str.encode('utf-8') # byte对象, utf-8编码\\nstr_gbk = str.encode('GBK') # byte对象, GBK编码\\nprint(str_utf8, str_gbk)\\nstr_utf8 = bytes(str, encoding='utf-8')\\nstr_gbk = bytes(str, encoding='GBK')\\nprint(str_utf8, str_gbk)\\nstr_utf8 = b'abc'\\nprint(str_utf8, str_utf8.decode('utf-8'))\\nstr_utf8 = b'小明'\", \"str = '小明'\\nstr_utf8 = str.encode('utf-8') # byte对象, utf-8编码\\nstr_gbk = str.encode('GBK') # byte对象, GBK编码\\nprint(str_utf8, str_gbk)\\nstr_utf8 = bytes(str, encoding='utf-8')\\nstr_gbk = bytes(str, encoding='GBK')\\nprint(str_utf8, str_gbk)\\nstr_utf8 = b'abc'\\nprint(str_utf8, str_utf8.decode('utf-8'))\\n# str_utf8 = b'小明' # SyntaxError: bytes can only contain ASCII literal characters.\", 'a = \\'hello\\'\\nb = \\'python\\'\\nprint(\\'a+b= \\', a+b)\\nprint(\\'a*2= \\', a*2)\\nif (\\'h\\' in a):\\n    print(\"h is in a\")\\nelse:\\n    print(\"h is not in a\")\\n\\nif (\\'M\\' not in a):\\n    print(\"M is in a\")\\nelse:\\n    print(\"M is not in a\")', \"print(b'abc')\\nprint(u'123')\\nprint(r'\\\\ is not escape char\\\\n', '\\\\t Enter \\\\n')\\nprint(R'\\\\a is not escaped \\\\n', '\\\\t Enter \\\\n')\\nprint('-\\\\123.1\\\\t')\\nprint(r'-\\\\123.1\\\\t')\", \"print(b'abc')\\nprint(u'123')\\nprint(r'\\\\ is not an escape char\\\\n', '\\\\t Enter \\\\n')\\nprint(R'\\\\a is not escaped \\\\n', '\\\\t Enter \\\\n')\\nprint('-\\\\123.1\\\\t')\\nprint(r'-\\\\123.1\\\\t')\", 'try:\\n    print(\"try...\")\\n    r = 10 / int(\\'2\\')\\n    print(\\'result: \\', r)\\nexcept ValueError as e:\\n    print(\"ValueError: \", e)\\nexcept ZeroDivisionError as e:\\n    print(\"ZeroDivisionError: \", e)\\nelse:\\n    print(\"no error!\")\\nfinally:\\n    print(\"finally!\")\\nprint(\"END\")', 'try:\\n    print(\"try...\")\\n    r = 10 / int(\\'0\\')\\n    print(\\'result: \\', r)\\nexcept ValueError as e:\\n    print(\"ValueError: \", e)\\nexcept ZeroDivisionError as e:\\n    print(\"ZeroDivisionError: \", e)\\nelse:\\n    print(\"no error!\")\\nfinally:\\n    print(\"finally!\")\\nprint(\"END\")', \"import logging\\ndef foo(s):\\n    return 10 / int(s)\\ndef bar(s):\\n    return foo(s) * 2\\ndef main():\\n    try:\\n        bar('0')\\n    except Exception as e:\\n        logging.exception(e)\\n        \", \"import logging\\ndef foo(s):\\n    return 10 / int(s)\\ndef bar(s):\\n    return foo(s) * 2\\ndef main():\\n    try:\\n        bar('0')\\n    except Exception as e:\\n        logging.exception(e)\\n\\nmain()\", \"def fun1(s):\\n    n = int(s)\\n    if n==0:\\n        raise ValueError('Invalid value: %s' % s)\\n    return 10 / n\\n\\ndef fun2():\\n    try:\\n        fun1('0')\\n    except ValueError as e:\\n        print('ValueError!')\\n        \\nfun2()        \", \"class MyError(ValueError):\\n    pass\\n\\ndef fun1(s):\\n    n = int(s)\\n    if n==0:\\n        raise MyError('Invalid value: %s' % s)\\n    return 10 / n\\n\\ndef fun2():\\n    try:\\n        fun1('0')\\n    except MyError as e:\\n        print('ValueError!')\\n        \\nfun2()        \", \"class MyError(ValueError):\\n    pass\\n\\ndef fun1(s):\\n    n = int(s)\\n    if n==0:\\n        raise MyError('Invalid value: %s' % s)\\n    return 10 / n\\n\\ndef fun2():\\n    try:\\n        fun1('0')\\n    except MyError as e:\\n        print('MyError!')\\n        \\nfun2()        \", \"import logging, sys\\nlogger = logging.getLogger('AppName')  # get logging instance, if param is None, return root logger\\n# logging output formatting\\nformatter = logging.Formatter('%(asctime)s %(levelname)-8s: %(message)s')\\nfilter = logging.Filter() # filter object\\nfile_handler = logging.FileHandler('test.log') # file log handler\\nfile_handler.addFilter(filter) # add filter\\nfile_handler.setFormatter(formatter)\\nconsole_handler = logging.StreamHandler(sys.stdout)\\nconsole_handler.addFilter(filter)\\nconsole_handler.formatter(formatter)\\n# add log handler\\nlogger.addHandler(file_handler)\\nlogger.addHandler(console_handler)\\nlogger.setLevel(logging.INFO)\\nlogger.debug('this is debug debug info')\\nlogger.info('this is debug information')\\nlogger.warning('this is warning message')\\nlogger.error('this is error message')\\nlogger.fatal('this is fatal message, it is same as logger.critical')\\nlogger.critical('this is critical messager')\\nlogger.removeHandler(file_handler)\", \"import logging, sys\\nlogger = logging.getLogger('AppName')  # get logging instance, if param is None, return root logger\\n# logging output formatting\\nformatter = logging.Formatter('%(asctime)s %(levelname)-8s: %(message)s')\\nfilter = logging.Filter() # filter object\\nfile_handler = logging.FileHandler('test-logging.log') # file log handler\\nfile_handler.addFilter(filter) # add filter\\nfile_handler.setFormatter(formatter)\\nconsole_handler = logging.StreamHandler(sys.stdout)\\nconsole_handler.addFilter(filter)\\n# console_handler.formatter(formatter) # TypeError: 'NoneType' object is not callable\\nconsole_handler.setFormatter(formatter)\\n# add log handler\\nlogger.addHandler(file_handler)\\nlogger.addHandler(console_handler)\\nlogger.setLevel(logging.INFO)\\nlogger.debug('this is debug debug info')\\nlogger.info('this is debug information')\\nlogger.warning('this is warning message')\\nlogger.error('this is error message')\\nlogger.fatal('this is fatal message, it is same as logger.critical')\\nlogger.critical('this is critical messager')\\nlogger.removeHandler(file_handler)\", 'Money = 2000\\ndef AddMoney():\\n    global Money\\n    Money = Money + 1\\nprint(Money)\\nAddMoney()\\nprint(Money)\\nprint(globals())\\nprint(locals())'], '_i7': \"str = '小明'\\nstr_utf8 = str.encode('utf-8') # byte对象, utf-8编码\\nstr_gbk = str.encode('GBK') # byte对象, GBK编码\\nprint(str_utf8, str_gbk)\\nstr_utf8 = bytes(str, encoding='utf-8')\\nstr_gbk = bytes(str, encoding='GBK')\\nprint(str_utf8, str_gbk)\\nstr_utf8 = b'abc'\\nprint(str_utf8, str_utf8.decode('utf-8'))\\nstr_utf8 = b'小明'\", '_': '', '_i16': \"def fun1(s):\\n    n = int(s)\\n    if n==0:\\n        raise ValueError('Invalid value: %s' % s)\\n    return 10 / n\\n\\ndef fun2():\\n    try:\\n        fun1('0')\\n    except ValueError as e:\\n        print('ValueError!')\\n        \\nfun2()        \", 'get_ipython': <bound method InteractiveShell.get_ipython of <ipykernel.zmqshell.ZMQInteractiveShell object at 0x0000000004773E10>>, '__spec__': None, '_i18': \"class MyError(ValueError):\\n    pass\\n\\ndef fun1(s):\\n    n = int(s)\\n    if n==0:\\n        raise MyError('Invalid value: %s' % s)\\n    return 10 / n\\n\\ndef fun2():\\n    try:\\n        fun1('0')\\n    except MyError as e:\\n        print('MyError!')\\n        \\nfun2()        \", '_i11': \"print(b'abc')\\nprint(u'123')\\nprint(r'\\\\ is not an escape char\\\\n', '\\\\t Enter \\\\n')\\nprint(R'\\\\a is not escaped \\\\n', '\\\\t Enter \\\\n')\\nprint('-\\\\123.1\\\\t')\\nprint(r'-\\\\123.1\\\\t')\", '___': '', '_ii': \"import logging, sys\\nlogger = logging.getLogger('AppName')  # get logging instance, if param is None, return root logger\\n# logging output formatting\\nformatter = logging.Formatter('%(asctime)s %(levelname)-8s: %(message)s')\\nfilter = logging.Filter() # filter object\\nfile_handler = logging.FileHandler('test.log') # file log handler\\nfile_handler.addFilter(filter) # add filter\\nfile_handler.setFormatter(formatter)\\nconsole_handler = logging.StreamHandler(sys.stdout)\\nconsole_handler.addFilter(filter)\\nconsole_handler.formatter(formatter)\\n# add log handler\\nlogger.addHandler(file_handler)\\nlogger.addHandler(console_handler)\\nlogger.setLevel(logging.INFO)\\nlogger.debug('this is debug debug info')\\nlogger.info('this is debug information')\\nlogger.warning('this is warning message')\\nlogger.error('this is error message')\\nlogger.fatal('this is fatal message, it is same as logger.critical')\\nlogger.critical('this is critical messager')\\nlogger.removeHandler(file_handler)\", 'str': '小明', '_i8': \"str = '小明'\\nstr_utf8 = str.encode('utf-8') # byte对象, utf-8编码\\nstr_gbk = str.encode('GBK') # byte对象, GBK编码\\nprint(str_utf8, str_gbk)\\nstr_utf8 = bytes(str, encoding='utf-8')\\nstr_gbk = bytes(str, encoding='GBK')\\nprint(str_utf8, str_gbk)\\nstr_utf8 = b'abc'\\nprint(str_utf8, str_utf8.decode('utf-8'))\\n# str_utf8 = b'小明' # SyntaxError: bytes can only contain ASCII literal characters.\", '_oh': {}, '_i17': \"class MyError(ValueError):\\n    pass\\n\\ndef fun1(s):\\n    n = int(s)\\n    if n==0:\\n        raise MyError('Invalid value: %s' % s)\\n    return 10 / n\\n\\ndef fun2():\\n    try:\\n        fun1('0')\\n    except MyError as e:\\n        print('ValueError!')\\n        \\nfun2()        \", 'fun2': <function fun2 at 0x0000000004888B70>, 'Process': <class 'multiprocessing.context.Process'>, '__builtins__': <module 'builtins' (built-in)>, '__doc__': 'Automatically created module for IPython interactive environment', 'run_proc': <function run_proc at 0x0000000004888510>, 'p': <Process(Process-2, stopped[1])>, '_i20': \"import logging, sys\\nlogger = logging.getLogger('AppName')  # get logging instance, if param is None, return root logger\\n# logging output formatting\\nformatter = logging.Formatter('%(asctime)s %(levelname)-8s: %(message)s')\\nfilter = logging.Filter() # filter object\\nfile_handler = logging.FileHandler('test-logging.log') # file log handler\\nfile_handler.addFilter(filter) # add filter\\nfile_handler.setFormatter(formatter)\\nconsole_handler = logging.StreamHandler(sys.stdout)\\nconsole_handler.addFilter(filter)\\n# console_handler.formatter(formatter) # TypeError: 'NoneType' object is not callable\\nconsole_handler.setFormatter(formatter)\\n# add log handler\\nlogger.addHandler(file_handler)\\nlogger.addHandler(console_handler)\\nlogger.setLevel(logging.INFO)\\nlogger.debug('this is debug debug info')\\nlogger.info('this is debug information')\\nlogger.warning('this is warning message')\\nlogger.error('this is error message')\\nlogger.fatal('this is fatal message, it is same as logger.critical')\\nlogger.critical('this is critical messager')\\nlogger.removeHandler(file_handler)\", '_i2': \"from multiprocessing import Process\\nimport os\\n\\n# 子进程要执行的代码\\ndef run_proc(name):\\n    print 'Run child process %s (%s)...' % (name, os.getpid())\\n\\nprint 'Parent process %s.' % os.getpid()\\np = Process(target=run_proc, args=('test',))\\nprint 'Process will start.'\\np.start()\\np.join() # 等待进程结束再往下走，通常用于进程间的同步\\nprint 'Process end.'\", '__builtin__': <module 'builtins' (built-in)>, 'logging': <module 'logging' from 'd:\\\\python35\\\\lib\\\\logging\\\\__init__.py'>, '_i14': \"import logging\\ndef foo(s):\\n    return 10 / int(s)\\ndef bar(s):\\n    return foo(s) * 2\\ndef main():\\n    try:\\n        bar('0')\\n    except Exception as e:\\n        logging.exception(e)\\n        \", 'filter': <logging.Filter object at 0x0000000004AF6780>, '_i5': \"from multiprocessing import Process\\nimport os\\n\\n# 子进程要执行的代码\\ndef run_proc(name):\\n    print('Run child process %s (%s)...' % (name, os.getpid()))\\n\\nif __name__=='__main__'\\n    print('Parent process %s.' % os.getpid())\\n    p = Process(target=run_proc, args=('test',))\\n    print('Process will start.')\\n    p.start()\\n    p.join() # 等待进程结束再往下走，通常用于进程间的同步\\n    print('Process end.')\", 'sys': <module 'sys' (built-in)>, 'str_gbk': b'\\xd0\\xa1\\xc3\\xf7', 'formatter': <logging.Formatter object at 0x0000000004AF6710>, '__loader__': None, 'bar': <function bar at 0x0000000004857D08>, '_i6': \"from multiprocessing import Process\\nimport os\\n\\n# 子进程要执行的代码\\ndef run_proc(name):\\n    print('Run child process %s (%s)...' % (name, os.getpid()))\\n\\nif __name__=='__main__':\\n    print('Parent process %s.' % os.getpid())\\n    p = Process(target=run_proc, args=('test',))\\n    print('Process will start.')\\n    p.start()\\n    p.join() # 等待进程结束再往下走，通常用于进程间的同步\\n    print('Process end.')\", '_iii': \"class MyError(ValueError):\\n    pass\\n\\ndef fun1(s):\\n    n = int(s)\\n    if n==0:\\n        raise MyError('Invalid value: %s' % s)\\n    return 10 / n\\n\\ndef fun2():\\n    try:\\n        fun1('0')\\n    except MyError as e:\\n        print('MyError!')\\n        \\nfun2()        \", '_i19': \"import logging, sys\\nlogger = logging.getLogger('AppName')  # get logging instance, if param is None, return root logger\\n# logging output formatting\\nformatter = logging.Formatter('%(asctime)s %(levelname)-8s: %(message)s')\\nfilter = logging.Filter() # filter object\\nfile_handler = logging.FileHandler('test.log') # file log handler\\nfile_handler.addFilter(filter) # add filter\\nfile_handler.setFormatter(formatter)\\nconsole_handler = logging.StreamHandler(sys.stdout)\\nconsole_handler.addFilter(filter)\\nconsole_handler.formatter(formatter)\\n# add log handler\\nlogger.addHandler(file_handler)\\nlogger.addHandler(console_handler)\\nlogger.setLevel(logging.INFO)\\nlogger.debug('this is debug debug info')\\nlogger.info('this is debug information')\\nlogger.warning('this is warning message')\\nlogger.error('this is error message')\\nlogger.fatal('this is fatal message, it is same as logger.critical')\\nlogger.critical('this is critical messager')\\nlogger.removeHandler(file_handler)\", 'file_handler': <logging.FileHandler object at 0x0000000004AF67F0>, 'foo': <function foo at 0x0000000004888A60>, '_i9': 'a = \\'hello\\'\\nb = \\'python\\'\\nprint(\\'a+b= \\', a+b)\\nprint(\\'a*2= \\', a*2)\\nif (\\'h\\' in a):\\n    print(\"h is in a\")\\nelse:\\n    print(\"h is not in a\")\\n\\nif (\\'M\\' not in a):\\n    print(\"M is in a\")\\nelse:\\n    print(\"M is not in a\")', 'fun1': <function fun1 at 0x0000000004868400>, '_i4': \"from multiprocessing import Process\\nimport os\\n\\n# 子进程要执行的代码\\ndef run_proc(name):\\n    print('Run child process %s (%s)...' % (name, os.getpid()))\\n\\nprint('Parent process %s.' % os.getpid())\\np = Process(target=run_proc, args=('test',))\\nprint('Process will start.')\\np.start()\\np.join() # 等待进程结束再往下走，通常用于进程间的同步\\nprint('Process end.')\", 'a': 'hello', '__': ''}\n",
      "{'_i1': \"from multiprocessing import Process\\nimport os\\n\\n# 子进程要执行的代码\\ndef run_proc(name):\\n    print 'Run child process %s (%s)...' % (name, os.getpid())\\n\\nif __name__=='__main__':\\n    print 'Parent process %s.' % os.getpid()\\n    p = Process(target=run_proc, args=('test',))\\n    print 'Process will start.'\\n    p.start()\\n    p.join() # 等待进程结束再往下走，通常用于进程间的同步\\n    print 'Process end.'\", 'MyError': <class '__main__.MyError'>, 'quit': <IPython.core.autocall.ZMQExitAutocall object at 0x00000000047C0B00>, 'r': 5.0, '_dh': ['C:\\\\Users\\\\Administrator'], '_i15': \"import logging\\ndef foo(s):\\n    return 10 / int(s)\\ndef bar(s):\\n    return foo(s) * 2\\ndef main():\\n    try:\\n        bar('0')\\n    except Exception as e:\\n        logging.exception(e)\\n\\nmain()\", '_i12': 'try:\\n    print(\"try...\")\\n    r = 10 / int(\\'2\\')\\n    print(\\'result: \\', r)\\nexcept ValueError as e:\\n    print(\"ValueError: \", e)\\nexcept ZeroDivisionError as e:\\n    print(\"ZeroDivisionError: \", e)\\nelse:\\n    print(\"no error!\")\\nfinally:\\n    print(\"finally!\")\\nprint(\"END\")', 'str_utf8': b'abc', 'exit': <IPython.core.autocall.ZMQExitAutocall object at 0x00000000047C0B00>, '_i3': \"from multiprocessing import Process\\nimport os\\n\\n# 子进程要执行的代码\\ndef run_proc(name):\\n    print('Run child process %s (%s)...' % (name, os.getpid()))\\n\\nprint 'Parent process %s.' % os.getpid()\\np = Process(target=run_proc, args=('test',))\\nprint 'Process will start.'\\np.start()\\np.join() # 等待进程结束再往下走，通常用于进程间的同步\\nprint 'Process end.'\", '_ih': ['', \"from multiprocessing import Process\\nimport os\\n\\n# 子进程要执行的代码\\ndef run_proc(name):\\n    print 'Run child process %s (%s)...' % (name, os.getpid())\\n\\nif __name__=='__main__':\\n    print 'Parent process %s.' % os.getpid()\\n    p = Process(target=run_proc, args=('test',))\\n    print 'Process will start.'\\n    p.start()\\n    p.join() # 等待进程结束再往下走，通常用于进程间的同步\\n    print 'Process end.'\", \"from multiprocessing import Process\\nimport os\\n\\n# 子进程要执行的代码\\ndef run_proc(name):\\n    print 'Run child process %s (%s)...' % (name, os.getpid())\\n\\nprint 'Parent process %s.' % os.getpid()\\np = Process(target=run_proc, args=('test',))\\nprint 'Process will start.'\\np.start()\\np.join() # 等待进程结束再往下走，通常用于进程间的同步\\nprint 'Process end.'\", \"from multiprocessing import Process\\nimport os\\n\\n# 子进程要执行的代码\\ndef run_proc(name):\\n    print('Run child process %s (%s)...' % (name, os.getpid()))\\n\\nprint 'Parent process %s.' % os.getpid()\\np = Process(target=run_proc, args=('test',))\\nprint 'Process will start.'\\np.start()\\np.join() # 等待进程结束再往下走，通常用于进程间的同步\\nprint 'Process end.'\", \"from multiprocessing import Process\\nimport os\\n\\n# 子进程要执行的代码\\ndef run_proc(name):\\n    print('Run child process %s (%s)...' % (name, os.getpid()))\\n\\nprint('Parent process %s.' % os.getpid())\\np = Process(target=run_proc, args=('test',))\\nprint('Process will start.')\\np.start()\\np.join() # 等待进程结束再往下走，通常用于进程间的同步\\nprint('Process end.')\", \"from multiprocessing import Process\\nimport os\\n\\n# 子进程要执行的代码\\ndef run_proc(name):\\n    print('Run child process %s (%s)...' % (name, os.getpid()))\\n\\nif __name__=='__main__'\\n    print('Parent process %s.' % os.getpid())\\n    p = Process(target=run_proc, args=('test',))\\n    print('Process will start.')\\n    p.start()\\n    p.join() # 等待进程结束再往下走，通常用于进程间的同步\\n    print('Process end.')\", \"from multiprocessing import Process\\nimport os\\n\\n# 子进程要执行的代码\\ndef run_proc(name):\\n    print('Run child process %s (%s)...' % (name, os.getpid()))\\n\\nif __name__=='__main__':\\n    print('Parent process %s.' % os.getpid())\\n    p = Process(target=run_proc, args=('test',))\\n    print('Process will start.')\\n    p.start()\\n    p.join() # 等待进程结束再往下走，通常用于进程间的同步\\n    print('Process end.')\", \"str = '小明'\\nstr_utf8 = str.encode('utf-8') # byte对象, utf-8编码\\nstr_gbk = str.encode('GBK') # byte对象, GBK编码\\nprint(str_utf8, str_gbk)\\nstr_utf8 = bytes(str, encoding='utf-8')\\nstr_gbk = bytes(str, encoding='GBK')\\nprint(str_utf8, str_gbk)\\nstr_utf8 = b'abc'\\nprint(str_utf8, str_utf8.decode('utf-8'))\\nstr_utf8 = b'小明'\", \"str = '小明'\\nstr_utf8 = str.encode('utf-8') # byte对象, utf-8编码\\nstr_gbk = str.encode('GBK') # byte对象, GBK编码\\nprint(str_utf8, str_gbk)\\nstr_utf8 = bytes(str, encoding='utf-8')\\nstr_gbk = bytes(str, encoding='GBK')\\nprint(str_utf8, str_gbk)\\nstr_utf8 = b'abc'\\nprint(str_utf8, str_utf8.decode('utf-8'))\\n# str_utf8 = b'小明' # SyntaxError: bytes can only contain ASCII literal characters.\", 'a = \\'hello\\'\\nb = \\'python\\'\\nprint(\\'a+b= \\', a+b)\\nprint(\\'a*2= \\', a*2)\\nif (\\'h\\' in a):\\n    print(\"h is in a\")\\nelse:\\n    print(\"h is not in a\")\\n\\nif (\\'M\\' not in a):\\n    print(\"M is in a\")\\nelse:\\n    print(\"M is not in a\")', \"print(b'abc')\\nprint(u'123')\\nprint(r'\\\\ is not escape char\\\\n', '\\\\t Enter \\\\n')\\nprint(R'\\\\a is not escaped \\\\n', '\\\\t Enter \\\\n')\\nprint('-\\\\123.1\\\\t')\\nprint(r'-\\\\123.1\\\\t')\", \"print(b'abc')\\nprint(u'123')\\nprint(r'\\\\ is not an escape char\\\\n', '\\\\t Enter \\\\n')\\nprint(R'\\\\a is not escaped \\\\n', '\\\\t Enter \\\\n')\\nprint('-\\\\123.1\\\\t')\\nprint(r'-\\\\123.1\\\\t')\", 'try:\\n    print(\"try...\")\\n    r = 10 / int(\\'2\\')\\n    print(\\'result: \\', r)\\nexcept ValueError as e:\\n    print(\"ValueError: \", e)\\nexcept ZeroDivisionError as e:\\n    print(\"ZeroDivisionError: \", e)\\nelse:\\n    print(\"no error!\")\\nfinally:\\n    print(\"finally!\")\\nprint(\"END\")', 'try:\\n    print(\"try...\")\\n    r = 10 / int(\\'0\\')\\n    print(\\'result: \\', r)\\nexcept ValueError as e:\\n    print(\"ValueError: \", e)\\nexcept ZeroDivisionError as e:\\n    print(\"ZeroDivisionError: \", e)\\nelse:\\n    print(\"no error!\")\\nfinally:\\n    print(\"finally!\")\\nprint(\"END\")', \"import logging\\ndef foo(s):\\n    return 10 / int(s)\\ndef bar(s):\\n    return foo(s) * 2\\ndef main():\\n    try:\\n        bar('0')\\n    except Exception as e:\\n        logging.exception(e)\\n        \", \"import logging\\ndef foo(s):\\n    return 10 / int(s)\\ndef bar(s):\\n    return foo(s) * 2\\ndef main():\\n    try:\\n        bar('0')\\n    except Exception as e:\\n        logging.exception(e)\\n\\nmain()\", \"def fun1(s):\\n    n = int(s)\\n    if n==0:\\n        raise ValueError('Invalid value: %s' % s)\\n    return 10 / n\\n\\ndef fun2():\\n    try:\\n        fun1('0')\\n    except ValueError as e:\\n        print('ValueError!')\\n        \\nfun2()        \", \"class MyError(ValueError):\\n    pass\\n\\ndef fun1(s):\\n    n = int(s)\\n    if n==0:\\n        raise MyError('Invalid value: %s' % s)\\n    return 10 / n\\n\\ndef fun2():\\n    try:\\n        fun1('0')\\n    except MyError as e:\\n        print('ValueError!')\\n        \\nfun2()        \", \"class MyError(ValueError):\\n    pass\\n\\ndef fun1(s):\\n    n = int(s)\\n    if n==0:\\n        raise MyError('Invalid value: %s' % s)\\n    return 10 / n\\n\\ndef fun2():\\n    try:\\n        fun1('0')\\n    except MyError as e:\\n        print('MyError!')\\n        \\nfun2()        \", \"import logging, sys\\nlogger = logging.getLogger('AppName')  # get logging instance, if param is None, return root logger\\n# logging output formatting\\nformatter = logging.Formatter('%(asctime)s %(levelname)-8s: %(message)s')\\nfilter = logging.Filter() # filter object\\nfile_handler = logging.FileHandler('test.log') # file log handler\\nfile_handler.addFilter(filter) # add filter\\nfile_handler.setFormatter(formatter)\\nconsole_handler = logging.StreamHandler(sys.stdout)\\nconsole_handler.addFilter(filter)\\nconsole_handler.formatter(formatter)\\n# add log handler\\nlogger.addHandler(file_handler)\\nlogger.addHandler(console_handler)\\nlogger.setLevel(logging.INFO)\\nlogger.debug('this is debug debug info')\\nlogger.info('this is debug information')\\nlogger.warning('this is warning message')\\nlogger.error('this is error message')\\nlogger.fatal('this is fatal message, it is same as logger.critical')\\nlogger.critical('this is critical messager')\\nlogger.removeHandler(file_handler)\", \"import logging, sys\\nlogger = logging.getLogger('AppName')  # get logging instance, if param is None, return root logger\\n# logging output formatting\\nformatter = logging.Formatter('%(asctime)s %(levelname)-8s: %(message)s')\\nfilter = logging.Filter() # filter object\\nfile_handler = logging.FileHandler('test-logging.log') # file log handler\\nfile_handler.addFilter(filter) # add filter\\nfile_handler.setFormatter(formatter)\\nconsole_handler = logging.StreamHandler(sys.stdout)\\nconsole_handler.addFilter(filter)\\n# console_handler.formatter(formatter) # TypeError: 'NoneType' object is not callable\\nconsole_handler.setFormatter(formatter)\\n# add log handler\\nlogger.addHandler(file_handler)\\nlogger.addHandler(console_handler)\\nlogger.setLevel(logging.INFO)\\nlogger.debug('this is debug debug info')\\nlogger.info('this is debug information')\\nlogger.warning('this is warning message')\\nlogger.error('this is error message')\\nlogger.fatal('this is fatal message, it is same as logger.critical')\\nlogger.critical('this is critical messager')\\nlogger.removeHandler(file_handler)\", 'Money = 2000\\ndef AddMoney():\\n    global Money\\n    Money = Money + 1\\nprint(Money)\\nAddMoney()\\nprint(Money)\\nprint(globals())\\nprint(locals())'], 'main': <function main at 0x0000000004868AE8>, '_i21': 'Money = 2000\\ndef AddMoney():\\n    global Money\\n    Money = Money + 1\\nprint(Money)\\nAddMoney()\\nprint(Money)\\nprint(globals())\\nprint(locals())', '_i13': 'try:\\n    print(\"try...\")\\n    r = 10 / int(\\'0\\')\\n    print(\\'result: \\', r)\\nexcept ValueError as e:\\n    print(\"ValueError: \", e)\\nexcept ZeroDivisionError as e:\\n    print(\"ZeroDivisionError: \", e)\\nelse:\\n    print(\"no error!\")\\nfinally:\\n    print(\"finally!\")\\nprint(\"END\")', '__package__': None, 'os': <module 'os' from 'd:\\\\python35\\\\lib\\\\os.py'>, 'Out': {}, '_i': \"import logging, sys\\nlogger = logging.getLogger('AppName')  # get logging instance, if param is None, return root logger\\n# logging output formatting\\nformatter = logging.Formatter('%(asctime)s %(levelname)-8s: %(message)s')\\nfilter = logging.Filter() # filter object\\nfile_handler = logging.FileHandler('test-logging.log') # file log handler\\nfile_handler.addFilter(filter) # add filter\\nfile_handler.setFormatter(formatter)\\nconsole_handler = logging.StreamHandler(sys.stdout)\\nconsole_handler.addFilter(filter)\\n# console_handler.formatter(formatter) # TypeError: 'NoneType' object is not callable\\nconsole_handler.setFormatter(formatter)\\n# add log handler\\nlogger.addHandler(file_handler)\\nlogger.addHandler(console_handler)\\nlogger.setLevel(logging.INFO)\\nlogger.debug('this is debug debug info')\\nlogger.info('this is debug information')\\nlogger.warning('this is warning message')\\nlogger.error('this is error message')\\nlogger.fatal('this is fatal message, it is same as logger.critical')\\nlogger.critical('this is critical messager')\\nlogger.removeHandler(file_handler)\", 'logger': <logging.Logger object at 0x0000000004A92048>, 'b': 'python', 'console_handler': <logging.StreamHandler object at 0x0000000004A920B8>, '_i10': \"print(b'abc')\\nprint(u'123')\\nprint(r'\\\\ is not escape char\\\\n', '\\\\t Enter \\\\n')\\nprint(R'\\\\a is not escaped \\\\n', '\\\\t Enter \\\\n')\\nprint('-\\\\123.1\\\\t')\\nprint(r'-\\\\123.1\\\\t')\", 'AddMoney': <function AddMoney at 0x0000000004888950>, 'Money': 2001, '__name__': '__main__', 'In': ['', \"from multiprocessing import Process\\nimport os\\n\\n# 子进程要执行的代码\\ndef run_proc(name):\\n    print 'Run child process %s (%s)...' % (name, os.getpid())\\n\\nif __name__=='__main__':\\n    print 'Parent process %s.' % os.getpid()\\n    p = Process(target=run_proc, args=('test',))\\n    print 'Process will start.'\\n    p.start()\\n    p.join() # 等待进程结束再往下走，通常用于进程间的同步\\n    print 'Process end.'\", \"from multiprocessing import Process\\nimport os\\n\\n# 子进程要执行的代码\\ndef run_proc(name):\\n    print 'Run child process %s (%s)...' % (name, os.getpid())\\n\\nprint 'Parent process %s.' % os.getpid()\\np = Process(target=run_proc, args=('test',))\\nprint 'Process will start.'\\np.start()\\np.join() # 等待进程结束再往下走，通常用于进程间的同步\\nprint 'Process end.'\", \"from multiprocessing import Process\\nimport os\\n\\n# 子进程要执行的代码\\ndef run_proc(name):\\n    print('Run child process %s (%s)...' % (name, os.getpid()))\\n\\nprint 'Parent process %s.' % os.getpid()\\np = Process(target=run_proc, args=('test',))\\nprint 'Process will start.'\\np.start()\\np.join() # 等待进程结束再往下走，通常用于进程间的同步\\nprint 'Process end.'\", \"from multiprocessing import Process\\nimport os\\n\\n# 子进程要执行的代码\\ndef run_proc(name):\\n    print('Run child process %s (%s)...' % (name, os.getpid()))\\n\\nprint('Parent process %s.' % os.getpid())\\np = Process(target=run_proc, args=('test',))\\nprint('Process will start.')\\np.start()\\np.join() # 等待进程结束再往下走，通常用于进程间的同步\\nprint('Process end.')\", \"from multiprocessing import Process\\nimport os\\n\\n# 子进程要执行的代码\\ndef run_proc(name):\\n    print('Run child process %s (%s)...' % (name, os.getpid()))\\n\\nif __name__=='__main__'\\n    print('Parent process %s.' % os.getpid())\\n    p = Process(target=run_proc, args=('test',))\\n    print('Process will start.')\\n    p.start()\\n    p.join() # 等待进程结束再往下走，通常用于进程间的同步\\n    print('Process end.')\", \"from multiprocessing import Process\\nimport os\\n\\n# 子进程要执行的代码\\ndef run_proc(name):\\n    print('Run child process %s (%s)...' % (name, os.getpid()))\\n\\nif __name__=='__main__':\\n    print('Parent process %s.' % os.getpid())\\n    p = Process(target=run_proc, args=('test',))\\n    print('Process will start.')\\n    p.start()\\n    p.join() # 等待进程结束再往下走，通常用于进程间的同步\\n    print('Process end.')\", \"str = '小明'\\nstr_utf8 = str.encode('utf-8') # byte对象, utf-8编码\\nstr_gbk = str.encode('GBK') # byte对象, GBK编码\\nprint(str_utf8, str_gbk)\\nstr_utf8 = bytes(str, encoding='utf-8')\\nstr_gbk = bytes(str, encoding='GBK')\\nprint(str_utf8, str_gbk)\\nstr_utf8 = b'abc'\\nprint(str_utf8, str_utf8.decode('utf-8'))\\nstr_utf8 = b'小明'\", \"str = '小明'\\nstr_utf8 = str.encode('utf-8') # byte对象, utf-8编码\\nstr_gbk = str.encode('GBK') # byte对象, GBK编码\\nprint(str_utf8, str_gbk)\\nstr_utf8 = bytes(str, encoding='utf-8')\\nstr_gbk = bytes(str, encoding='GBK')\\nprint(str_utf8, str_gbk)\\nstr_utf8 = b'abc'\\nprint(str_utf8, str_utf8.decode('utf-8'))\\n# str_utf8 = b'小明' # SyntaxError: bytes can only contain ASCII literal characters.\", 'a = \\'hello\\'\\nb = \\'python\\'\\nprint(\\'a+b= \\', a+b)\\nprint(\\'a*2= \\', a*2)\\nif (\\'h\\' in a):\\n    print(\"h is in a\")\\nelse:\\n    print(\"h is not in a\")\\n\\nif (\\'M\\' not in a):\\n    print(\"M is in a\")\\nelse:\\n    print(\"M is not in a\")', \"print(b'abc')\\nprint(u'123')\\nprint(r'\\\\ is not escape char\\\\n', '\\\\t Enter \\\\n')\\nprint(R'\\\\a is not escaped \\\\n', '\\\\t Enter \\\\n')\\nprint('-\\\\123.1\\\\t')\\nprint(r'-\\\\123.1\\\\t')\", \"print(b'abc')\\nprint(u'123')\\nprint(r'\\\\ is not an escape char\\\\n', '\\\\t Enter \\\\n')\\nprint(R'\\\\a is not escaped \\\\n', '\\\\t Enter \\\\n')\\nprint('-\\\\123.1\\\\t')\\nprint(r'-\\\\123.1\\\\t')\", 'try:\\n    print(\"try...\")\\n    r = 10 / int(\\'2\\')\\n    print(\\'result: \\', r)\\nexcept ValueError as e:\\n    print(\"ValueError: \", e)\\nexcept ZeroDivisionError as e:\\n    print(\"ZeroDivisionError: \", e)\\nelse:\\n    print(\"no error!\")\\nfinally:\\n    print(\"finally!\")\\nprint(\"END\")', 'try:\\n    print(\"try...\")\\n    r = 10 / int(\\'0\\')\\n    print(\\'result: \\', r)\\nexcept ValueError as e:\\n    print(\"ValueError: \", e)\\nexcept ZeroDivisionError as e:\\n    print(\"ZeroDivisionError: \", e)\\nelse:\\n    print(\"no error!\")\\nfinally:\\n    print(\"finally!\")\\nprint(\"END\")', \"import logging\\ndef foo(s):\\n    return 10 / int(s)\\ndef bar(s):\\n    return foo(s) * 2\\ndef main():\\n    try:\\n        bar('0')\\n    except Exception as e:\\n        logging.exception(e)\\n        \", \"import logging\\ndef foo(s):\\n    return 10 / int(s)\\ndef bar(s):\\n    return foo(s) * 2\\ndef main():\\n    try:\\n        bar('0')\\n    except Exception as e:\\n        logging.exception(e)\\n\\nmain()\", \"def fun1(s):\\n    n = int(s)\\n    if n==0:\\n        raise ValueError('Invalid value: %s' % s)\\n    return 10 / n\\n\\ndef fun2():\\n    try:\\n        fun1('0')\\n    except ValueError as e:\\n        print('ValueError!')\\n        \\nfun2()        \", \"class MyError(ValueError):\\n    pass\\n\\ndef fun1(s):\\n    n = int(s)\\n    if n==0:\\n        raise MyError('Invalid value: %s' % s)\\n    return 10 / n\\n\\ndef fun2():\\n    try:\\n        fun1('0')\\n    except MyError as e:\\n        print('ValueError!')\\n        \\nfun2()        \", \"class MyError(ValueError):\\n    pass\\n\\ndef fun1(s):\\n    n = int(s)\\n    if n==0:\\n        raise MyError('Invalid value: %s' % s)\\n    return 10 / n\\n\\ndef fun2():\\n    try:\\n        fun1('0')\\n    except MyError as e:\\n        print('MyError!')\\n        \\nfun2()        \", \"import logging, sys\\nlogger = logging.getLogger('AppName')  # get logging instance, if param is None, return root logger\\n# logging output formatting\\nformatter = logging.Formatter('%(asctime)s %(levelname)-8s: %(message)s')\\nfilter = logging.Filter() # filter object\\nfile_handler = logging.FileHandler('test.log') # file log handler\\nfile_handler.addFilter(filter) # add filter\\nfile_handler.setFormatter(formatter)\\nconsole_handler = logging.StreamHandler(sys.stdout)\\nconsole_handler.addFilter(filter)\\nconsole_handler.formatter(formatter)\\n# add log handler\\nlogger.addHandler(file_handler)\\nlogger.addHandler(console_handler)\\nlogger.setLevel(logging.INFO)\\nlogger.debug('this is debug debug info')\\nlogger.info('this is debug information')\\nlogger.warning('this is warning message')\\nlogger.error('this is error message')\\nlogger.fatal('this is fatal message, it is same as logger.critical')\\nlogger.critical('this is critical messager')\\nlogger.removeHandler(file_handler)\", \"import logging, sys\\nlogger = logging.getLogger('AppName')  # get logging instance, if param is None, return root logger\\n# logging output formatting\\nformatter = logging.Formatter('%(asctime)s %(levelname)-8s: %(message)s')\\nfilter = logging.Filter() # filter object\\nfile_handler = logging.FileHandler('test-logging.log') # file log handler\\nfile_handler.addFilter(filter) # add filter\\nfile_handler.setFormatter(formatter)\\nconsole_handler = logging.StreamHandler(sys.stdout)\\nconsole_handler.addFilter(filter)\\n# console_handler.formatter(formatter) # TypeError: 'NoneType' object is not callable\\nconsole_handler.setFormatter(formatter)\\n# add log handler\\nlogger.addHandler(file_handler)\\nlogger.addHandler(console_handler)\\nlogger.setLevel(logging.INFO)\\nlogger.debug('this is debug debug info')\\nlogger.info('this is debug information')\\nlogger.warning('this is warning message')\\nlogger.error('this is error message')\\nlogger.fatal('this is fatal message, it is same as logger.critical')\\nlogger.critical('this is critical messager')\\nlogger.removeHandler(file_handler)\", 'Money = 2000\\ndef AddMoney():\\n    global Money\\n    Money = Money + 1\\nprint(Money)\\nAddMoney()\\nprint(Money)\\nprint(globals())\\nprint(locals())'], '_i7': \"str = '小明'\\nstr_utf8 = str.encode('utf-8') # byte对象, utf-8编码\\nstr_gbk = str.encode('GBK') # byte对象, GBK编码\\nprint(str_utf8, str_gbk)\\nstr_utf8 = bytes(str, encoding='utf-8')\\nstr_gbk = bytes(str, encoding='GBK')\\nprint(str_utf8, str_gbk)\\nstr_utf8 = b'abc'\\nprint(str_utf8, str_utf8.decode('utf-8'))\\nstr_utf8 = b'小明'\", '_': '', '_i16': \"def fun1(s):\\n    n = int(s)\\n    if n==0:\\n        raise ValueError('Invalid value: %s' % s)\\n    return 10 / n\\n\\ndef fun2():\\n    try:\\n        fun1('0')\\n    except ValueError as e:\\n        print('ValueError!')\\n        \\nfun2()        \", 'get_ipython': <bound method InteractiveShell.get_ipython of <ipykernel.zmqshell.ZMQInteractiveShell object at 0x0000000004773E10>>, '__spec__': None, '_i18': \"class MyError(ValueError):\\n    pass\\n\\ndef fun1(s):\\n    n = int(s)\\n    if n==0:\\n        raise MyError('Invalid value: %s' % s)\\n    return 10 / n\\n\\ndef fun2():\\n    try:\\n        fun1('0')\\n    except MyError as e:\\n        print('MyError!')\\n        \\nfun2()        \", '_i11': \"print(b'abc')\\nprint(u'123')\\nprint(r'\\\\ is not an escape char\\\\n', '\\\\t Enter \\\\n')\\nprint(R'\\\\a is not escaped \\\\n', '\\\\t Enter \\\\n')\\nprint('-\\\\123.1\\\\t')\\nprint(r'-\\\\123.1\\\\t')\", '___': '', '_ii': \"import logging, sys\\nlogger = logging.getLogger('AppName')  # get logging instance, if param is None, return root logger\\n# logging output formatting\\nformatter = logging.Formatter('%(asctime)s %(levelname)-8s: %(message)s')\\nfilter = logging.Filter() # filter object\\nfile_handler = logging.FileHandler('test.log') # file log handler\\nfile_handler.addFilter(filter) # add filter\\nfile_handler.setFormatter(formatter)\\nconsole_handler = logging.StreamHandler(sys.stdout)\\nconsole_handler.addFilter(filter)\\nconsole_handler.formatter(formatter)\\n# add log handler\\nlogger.addHandler(file_handler)\\nlogger.addHandler(console_handler)\\nlogger.setLevel(logging.INFO)\\nlogger.debug('this is debug debug info')\\nlogger.info('this is debug information')\\nlogger.warning('this is warning message')\\nlogger.error('this is error message')\\nlogger.fatal('this is fatal message, it is same as logger.critical')\\nlogger.critical('this is critical messager')\\nlogger.removeHandler(file_handler)\", 'str': '小明', '_i8': \"str = '小明'\\nstr_utf8 = str.encode('utf-8') # byte对象, utf-8编码\\nstr_gbk = str.encode('GBK') # byte对象, GBK编码\\nprint(str_utf8, str_gbk)\\nstr_utf8 = bytes(str, encoding='utf-8')\\nstr_gbk = bytes(str, encoding='GBK')\\nprint(str_utf8, str_gbk)\\nstr_utf8 = b'abc'\\nprint(str_utf8, str_utf8.decode('utf-8'))\\n# str_utf8 = b'小明' # SyntaxError: bytes can only contain ASCII literal characters.\", '_oh': {}, '_i17': \"class MyError(ValueError):\\n    pass\\n\\ndef fun1(s):\\n    n = int(s)\\n    if n==0:\\n        raise MyError('Invalid value: %s' % s)\\n    return 10 / n\\n\\ndef fun2():\\n    try:\\n        fun1('0')\\n    except MyError as e:\\n        print('ValueError!')\\n        \\nfun2()        \", 'fun2': <function fun2 at 0x0000000004888B70>, 'Process': <class 'multiprocessing.context.Process'>, '__builtins__': <module 'builtins' (built-in)>, '__doc__': 'Automatically created module for IPython interactive environment', 'run_proc': <function run_proc at 0x0000000004888510>, 'p': <Process(Process-2, stopped[1])>, '_i20': \"import logging, sys\\nlogger = logging.getLogger('AppName')  # get logging instance, if param is None, return root logger\\n# logging output formatting\\nformatter = logging.Formatter('%(asctime)s %(levelname)-8s: %(message)s')\\nfilter = logging.Filter() # filter object\\nfile_handler = logging.FileHandler('test-logging.log') # file log handler\\nfile_handler.addFilter(filter) # add filter\\nfile_handler.setFormatter(formatter)\\nconsole_handler = logging.StreamHandler(sys.stdout)\\nconsole_handler.addFilter(filter)\\n# console_handler.formatter(formatter) # TypeError: 'NoneType' object is not callable\\nconsole_handler.setFormatter(formatter)\\n# add log handler\\nlogger.addHandler(file_handler)\\nlogger.addHandler(console_handler)\\nlogger.setLevel(logging.INFO)\\nlogger.debug('this is debug debug info')\\nlogger.info('this is debug information')\\nlogger.warning('this is warning message')\\nlogger.error('this is error message')\\nlogger.fatal('this is fatal message, it is same as logger.critical')\\nlogger.critical('this is critical messager')\\nlogger.removeHandler(file_handler)\", '_i2': \"from multiprocessing import Process\\nimport os\\n\\n# 子进程要执行的代码\\ndef run_proc(name):\\n    print 'Run child process %s (%s)...' % (name, os.getpid())\\n\\nprint 'Parent process %s.' % os.getpid()\\np = Process(target=run_proc, args=('test',))\\nprint 'Process will start.'\\np.start()\\np.join() # 等待进程结束再往下走，通常用于进程间的同步\\nprint 'Process end.'\", '__builtin__': <module 'builtins' (built-in)>, 'logging': <module 'logging' from 'd:\\\\python35\\\\lib\\\\logging\\\\__init__.py'>, '_i14': \"import logging\\ndef foo(s):\\n    return 10 / int(s)\\ndef bar(s):\\n    return foo(s) * 2\\ndef main():\\n    try:\\n        bar('0')\\n    except Exception as e:\\n        logging.exception(e)\\n        \", 'filter': <logging.Filter object at 0x0000000004AF6780>, '_i5': \"from multiprocessing import Process\\nimport os\\n\\n# 子进程要执行的代码\\ndef run_proc(name):\\n    print('Run child process %s (%s)...' % (name, os.getpid()))\\n\\nif __name__=='__main__'\\n    print('Parent process %s.' % os.getpid())\\n    p = Process(target=run_proc, args=('test',))\\n    print('Process will start.')\\n    p.start()\\n    p.join() # 等待进程结束再往下走，通常用于进程间的同步\\n    print('Process end.')\", 'sys': <module 'sys' (built-in)>, 'str_gbk': b'\\xd0\\xa1\\xc3\\xf7', 'formatter': <logging.Formatter object at 0x0000000004AF6710>, '__loader__': None, 'bar': <function bar at 0x0000000004857D08>, '_i6': \"from multiprocessing import Process\\nimport os\\n\\n# 子进程要执行的代码\\ndef run_proc(name):\\n    print('Run child process %s (%s)...' % (name, os.getpid()))\\n\\nif __name__=='__main__':\\n    print('Parent process %s.' % os.getpid())\\n    p = Process(target=run_proc, args=('test',))\\n    print('Process will start.')\\n    p.start()\\n    p.join() # 等待进程结束再往下走，通常用于进程间的同步\\n    print('Process end.')\", '_iii': \"class MyError(ValueError):\\n    pass\\n\\ndef fun1(s):\\n    n = int(s)\\n    if n==0:\\n        raise MyError('Invalid value: %s' % s)\\n    return 10 / n\\n\\ndef fun2():\\n    try:\\n        fun1('0')\\n    except MyError as e:\\n        print('MyError!')\\n        \\nfun2()        \", '_i19': \"import logging, sys\\nlogger = logging.getLogger('AppName')  # get logging instance, if param is None, return root logger\\n# logging output formatting\\nformatter = logging.Formatter('%(asctime)s %(levelname)-8s: %(message)s')\\nfilter = logging.Filter() # filter object\\nfile_handler = logging.FileHandler('test.log') # file log handler\\nfile_handler.addFilter(filter) # add filter\\nfile_handler.setFormatter(formatter)\\nconsole_handler = logging.StreamHandler(sys.stdout)\\nconsole_handler.addFilter(filter)\\nconsole_handler.formatter(formatter)\\n# add log handler\\nlogger.addHandler(file_handler)\\nlogger.addHandler(console_handler)\\nlogger.setLevel(logging.INFO)\\nlogger.debug('this is debug debug info')\\nlogger.info('this is debug information')\\nlogger.warning('this is warning message')\\nlogger.error('this is error message')\\nlogger.fatal('this is fatal message, it is same as logger.critical')\\nlogger.critical('this is critical messager')\\nlogger.removeHandler(file_handler)\", 'file_handler': <logging.FileHandler object at 0x0000000004AF67F0>, 'foo': <function foo at 0x0000000004888A60>, '_i9': 'a = \\'hello\\'\\nb = \\'python\\'\\nprint(\\'a+b= \\', a+b)\\nprint(\\'a*2= \\', a*2)\\nif (\\'h\\' in a):\\n    print(\"h is in a\")\\nelse:\\n    print(\"h is not in a\")\\n\\nif (\\'M\\' not in a):\\n    print(\"M is in a\")\\nelse:\\n    print(\"M is not in a\")', 'fun1': <function fun1 at 0x0000000004868400>, '_i4': \"from multiprocessing import Process\\nimport os\\n\\n# 子进程要执行的代码\\ndef run_proc(name):\\n    print('Run child process %s (%s)...' % (name, os.getpid()))\\n\\nprint('Parent process %s.' % os.getpid())\\np = Process(target=run_proc, args=('test',))\\nprint('Process will start.')\\np.start()\\np.join() # 等待进程结束再往下走，通常用于进程间的同步\\nprint('Process end.')\", 'a': 'hello', '__': ''}\n"
     ]
    }
   ],
   "source": [
    "Money = 2000\n",
    "def AddMoney():\n",
    "    global Money\n",
    "    Money = Money + 1\n",
    "print(Money)\n",
    "AddMoney()\n",
    "print(Money)\n",
    "print(globals())\n",
    "print(locals())"
   ]
  },
  {
   "cell_type": "code",
   "execution_count": 22,
   "metadata": {},
   "outputs": [
    {
     "name": "stdout",
     "output_type": "stream",
     "text": [
      "Too many arguments!\n"
     ]
    }
   ],
   "source": [
    "#!/usr/bin/env python3\n",
    "# -*- coding: utf-8 -*-\n",
    "\n",
    "' a test module'\n",
    "\n",
    "__author__ = 'Tom'\n",
    "\n",
    "import sys\n",
    "def test():\n",
    "    args = sys.argv\n",
    "    if len(args) == 1:\n",
    "        print(\"Hello World\")\n",
    "    elif len(args) == 2:\n",
    "        print(\"Hello, %s!\" % args[1])\n",
    "    else:\n",
    "        print(\"Too many arguments!\")\n",
    "\n",
    "if __name__ == '__main__':\n",
    "    test()\n",
    "    "
   ]
  },
  {
   "cell_type": "code",
   "execution_count": null,
   "metadata": {},
   "outputs": [],
   "source": [
    "def _private_1(name):\n",
    "    return 'hello, %s' % name\n",
    "\n",
    "def _private_2(name):\n",
    "    return 'hi, %s' % name\n",
    "\n",
    "def greeting(name):\n",
    "    if len(name) > 3:\n",
    "        return _private_1(name)\n",
    "    else:\n",
    "        return _private_2(name)"
   ]
  },
  {
   "cell_type": "code",
   "execution_count": 46,
   "metadata": {},
   "outputs": [
    {
     "name": "stdout",
     "output_type": "stream",
     "text": [
      "set()\n",
      "{1, 2, 3, 4, 5}\n",
      "{1, 2, 3, 4, 5}\n",
      "{'o', 'y', 'b'}\n",
      "{'o', 'y', 'b'}\n",
      "{'k2', 'k1'}\n",
      "{1, 2, 3, 4, 5, 6, 'c', 'a'}\n",
      "{0, 5, 6, 7, 8, 9, 'b'}\n",
      "{5, 6}\n",
      "{0, 1, 2, 3, 4, 5, 6, 7, 8, 9, 'c', 'b', 'a'}\n",
      "{1, 2, 3, 4, 'c', 'a'}\n",
      "{0, 1, 2, 3, 4, 7, 8, 9, 'b', 'c', 'a'}\n",
      "{5, 6}\n",
      "{0, 1, 2, 3, 4, 5, 6, 7, 8, 9, 'c', 'b', 'a'}\n",
      "{1, 2, 3, 4, 5, 6, 'c', 'a'}\n",
      "{0, 5, 6, 7, 8, 9, 'b'}\n",
      "None\n",
      "{0, 1, 2, 3, 4, 5, 6, 7, 8, 9, 'c', 'b', 'a'}\n",
      "{0, 1, 2, 3, 4, 5, 6, 8, 9, 'c', 'b', 'a'}\n",
      "{0, 5, 7, 8, 9, 'b'}\n"
     ]
    }
   ],
   "source": [
    "# 空集合\n",
    "print(set())\n",
    "\n",
    "set1 = [1,2,3,4,5]\n",
    "print(set(set1))\n",
    "\n",
    "print(set((1,2,3,4,5)))\n",
    "\n",
    "print(set('boy'))\n",
    "\n",
    "print(set(['y','b','o','o']))\n",
    "\n",
    "print(set({'k1':'y1', 'k2':'y2'}))\n",
    "\n",
    "set1 = {1,2,3,4,5,6,'a'}\n",
    "set2 = {5,6,7,8,9,0,'b'}\n",
    "set1.add('c')\n",
    "print(set1)\n",
    "set2.remove('b')\n",
    "set2.add('b')\n",
    "print(set2)\n",
    "\n",
    "print(set1 & set2)\n",
    "print(set1 | set2)\n",
    "print(set1 - set2)\n",
    "print(set1 ^ set2)\n",
    "\n",
    "print(set1.intersection(set2))\n",
    "\n",
    "print(set1.union(set2))\n",
    "\n",
    "print(set1)\n",
    "print(set2)\n",
    "print(set1.update(set2))\n",
    "print(set1)\n",
    "\n",
    "set1.discard(7)\n",
    "set2.remove(6)\n",
    "print(set1)\n",
    "print(set2)\n"
   ]
  },
  {
   "cell_type": "code",
   "execution_count": 57,
   "metadata": {},
   "outputs": [
    {
     "name": "stdout",
     "output_type": "stream",
     "text": [
      "hello boythub.global.ssl.fastly.net\n",
      "192.30.253.112 github.com\n",
      "23.253.135.79 python.org\n",
      "151.101.128.223 pypi.org\n",
      "151.101.1.63 pythonhosted.org\n",
      "151.101.2.110 wistia.com\n",
      "127.0.0.1       localhost\n",
      "200\n"
     ]
    }
   ],
   "source": [
    "try:\n",
    "    with open(r\"c:\\test.txt\", 'r+') as f:\n",
    "        for line in f.readlines():\n",
    "            print(line.strip())\n",
    "        print(f.tell())\n",
    "        f.seek(0,0)\n",
    "        f.write('hello boy')\n",
    "except:\n",
    "    print(\"failure in read file lines\")"
   ]
  },
  {
   "cell_type": "code",
   "execution_count": 58,
   "metadata": {},
   "outputs": [
    {
     "name": "stdout",
     "output_type": "stream",
     "text": [
      "Animal is running\n",
      "Animal is running\n",
      "Cat is running\n",
      "I am tree, not animal\n"
     ]
    }
   ],
   "source": [
    "class Animal(object):\n",
    "    def run(self):\n",
    "        print(\"Animal is running\")\n",
    "\n",
    "class Dog(Animal):\n",
    "    pass\n",
    "\n",
    "class Cat(Animal):\n",
    "    def run(self):\n",
    "        print(\"Cat is running\")\n",
    "\n",
    "class Tree(object):\n",
    "    def run(self):\n",
    "        print(\"I am tree, not animal\")\n",
    "\n",
    "def run_twice(animal):\n",
    "    animal.run()\n",
    "\n",
    "run_twice(Animal())    \n",
    "run_twice(Dog())    \n",
    "run_twice(Cat())    \n",
    "run_twice(Tree())    \n",
    "        "
   ]
  },
  {
   "cell_type": "code",
   "execution_count": 86,
   "metadata": {},
   "outputs": [
    {
     "name": "stdout",
     "output_type": "stream",
     "text": [
      "<__main__.Fabs object at 0x0000000004D801D0>\n",
      "1\n",
      "1\n",
      "2\n",
      "3\n",
      "5\n",
      "1\n"
     ]
    },
    {
     "data": {
      "text/plain": [
       "[1, 2, 3, 5]"
      ]
     },
     "execution_count": 86,
     "metadata": {},
     "output_type": "execute_result"
    }
   ],
   "source": [
    "class Fabs(object):\n",
    "    def __init__(self,max=10000):\n",
    "        self.max = max\n",
    "        self.n, self.a, self.b = 0, 0, 1  #特别指出：第0项是0，第1项是第一个1.整个数列从1开始\n",
    "    def __iter__(self):\n",
    "        return self\n",
    "    def next(self):\n",
    "        if self.n < self.max:\n",
    "            r = self.b\n",
    "            self.a, self.b = self.b, self.a + self.b\n",
    "            self.n = self.n + 1\n",
    "            return r\n",
    "        raise StopIteration()\n",
    "    def __next__(self):\n",
    "        return self.next()\n",
    "    def __getitem__(self, n):\n",
    "        if isinstance(n,int):\n",
    "            a,b = 1,1\n",
    "            for x in range(n):\n",
    "                a,b=b,a+b\n",
    "            return a\n",
    "        if isinstance(n,slice):\n",
    "            start = n.start\n",
    "            stop = n.stop\n",
    "            if start is None:\n",
    "                start = 0\n",
    "            a,b = 1,1\n",
    "            L = []\n",
    "            for x in range(start,stop):\n",
    "                if x>start:\n",
    "                    L.append(a)\n",
    "                a,b=b,a+b\n",
    "            return L\n",
    "\n",
    "print(Fabs(5))\n",
    "for key in Fabs(5):\n",
    "    print(key)\n",
    "\n",
    "f=Fabs()\n",
    "print(f[0])\n",
    "\n",
    "g=Fabs()\n",
    "g[0:5]"
   ]
  },
  {
   "cell_type": "code",
   "execution_count": null,
   "metadata": {},
   "outputs": [],
   "source": []
  },
  {
   "cell_type": "code",
   "execution_count": null,
   "metadata": {},
   "outputs": [],
   "source": []
  },
  {
   "cell_type": "code",
   "execution_count": null,
   "metadata": {},
   "outputs": [],
   "source": []
  }
 ],
 "metadata": {
  "kernelspec": {
   "display_name": "Python 3",
   "language": "python",
   "name": "python3"
  },
  "language_info": {
   "codemirror_mode": {
    "name": "ipython",
    "version": 3
   },
   "file_extension": ".py",
   "mimetype": "text/x-python",
   "name": "python",
   "nbconvert_exporter": "python",
   "pygments_lexer": "ipython3",
   "version": "3.5.4"
  }
 },
 "nbformat": 4,
 "nbformat_minor": 2
}
