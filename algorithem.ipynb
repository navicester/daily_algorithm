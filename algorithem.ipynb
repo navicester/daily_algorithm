{
 "cells": [
  {
   "cell_type": "markdown",
   "metadata": {},
   "source": [
    "# 斐波那契数列"
   ]
  },
  {
   "cell_type": "markdown",
   "metadata": {},
   "source": [
    "## （1）递归法"
   ]
  },
  {
   "cell_type": "code",
   "execution_count": null,
   "metadata": {},
   "outputs": [],
   "source": [
    "def fib(n):\n",
    "    if n < 2:\n",
    "        return n\n",
    "    return fib(n-1) + fib(n-2)\n",
    "\n",
    "for foo in  range(10):\n",
    "    print(fib(foo))"
   ]
  },
  {
   "cell_type": "markdown",
   "metadata": {},
   "source": [
    "写法最简洁，但是效率最低，会出现大量的重复计算，时间复杂度O（1.618^n）,而且最深度1000"
   ]
  },
  {
   "cell_type": "markdown",
   "metadata": {},
   "source": [
    "## （2）递推法"
   ]
  },
  {
   "cell_type": "code",
   "execution_count": null,
   "metadata": {},
   "outputs": [],
   "source": [
    "def fib(max_val):\n",
    "    a, b, n = 0, 1, max_val\n",
    "    while n:\n",
    "        print(a)\n",
    "        a, b = b, a+b\n",
    "        n -= 1\n",
    "    return None\n",
    "\n",
    "fib(10)"
   ]
  },
  {
   "cell_type": "markdown",
   "metadata": {},
   "source": [
    "递推法，就是递增法，时间复杂度是 O(n)，呈线性增长，如果数据量巨大，速度会越拖越慢"
   ]
  },
  {
   "cell_type": "markdown",
   "metadata": {},
   "source": [
    "## （3）生成器"
   ]
  },
  {
   "cell_type": "code",
   "execution_count": null,
   "metadata": {},
   "outputs": [],
   "source": [
    "def fib(max_val):\n",
    "    a, b, n = 0, 1, max_val\n",
    "    while n:\n",
    "        yield a\n",
    "        a, b = b, a+b\n",
    "        n -= 1\n",
    "    return None\n",
    "\n",
    "for foo in fib(10):\n",
    "    print(foo)"
   ]
  },
  {
   "cell_type": "markdown",
   "metadata": {},
   "source": [
    "## （4）类实现内部魔法方法"
   ]
  },
  {
   "cell_type": "code",
   "execution_count": 7,
   "metadata": {},
   "outputs": [
    {
     "name": "stdout",
     "output_type": "stream",
     "text": [
      "1\n",
      "1\n",
      "2\n",
      "3\n",
      "5\n"
     ]
    }
   ],
   "source": [
    "class fib(object):\n",
    "    def __init__(self,max):\n",
    "        self.max = max\n",
    "        self.cursor = 0\n",
    "        self.a,self.b = 0,1\n",
    "    def __next__(self):\n",
    "        if self.cursor < self.max:\n",
    "            self.a,self.b=self.b,self.a+self.b\n",
    "            self.cursor+=1\n",
    "            #yield self.a\n",
    "            return self.a\n",
    "        else:\n",
    "            raise StopIteration\n",
    "    def __iter__(self):\n",
    "        return self\n",
    "\"\"\"    \n",
    "it = iter(fib(5))\n",
    "print(next(it))\n",
    "print(next(it))\n",
    "print(next(it))\n",
    "print(next(it))\n",
    "print(next(it))\n",
    "# print(next(it))\n",
    "\"\"\"\n",
    "\n",
    "for i in fib(5):\n",
    "    print(i)"
   ]
  },
  {
   "cell_type": "markdown",
   "metadata": {},
   "source": [
    "# 跳台阶"
   ]
  },
  {
   "cell_type": "markdown",
   "metadata": {},
   "source": [
    "### 问题：一只青蛙一次可以跳上1级台阶，也可以跳上2级(最多跳2级),求该青蛙跳上一个n级的台阶总共有多少种方法？\n",
    "\n",
    "如果台阶只有一级，只有一种走法；如果台阶有两级，走法有两种；如果台阶有N级，最后跳上第N级的情况，要么是从N-2级直接跳两级台阶，或者从第N-1级跳一级台阶，所以台阶有N级的方法数等于跨到N-2级台阶的方法数加上跨到N-1级台阶的方法数，即S(N)=S(N-1)+S(N-2),初始项为S(1)=1,S(2)=2,类似于斐波那契数列，只不过是初始项不同。"
   ]
  },
  {
   "cell_type": "markdown",
   "metadata": {},
   "source": [
    "\n",
    "|台阶数\t| 方法 |\n",
    "|-----|------|\n",
    "|f(0)\t| 0 |\n",
    "|f(1)\t| 1 |\n",
    "|f(2)\t| 2 |\n",
    "|f(3)\t| 3 |\n",
    "|f(4)\t| 5 |\n",
    "|f(5)\t| 8 |"
   ]
  },
  {
   "cell_type": "code",
   "execution_count": null,
   "metadata": {},
   "outputs": [],
   "source": [
    "def fib(max_val):\n",
    "    a, b, n = 0, 1, max_val\n",
    "    while n:\n",
    "        a, b = b, a+b\n",
    "        n -= 1\n",
    "    return b\n",
    "n = 3 # 台阶数\n",
    "ret = n if n <= 2 else fib(n)\n",
    "print(ret)"
   ]
  },
  {
   "cell_type": "markdown",
   "metadata": {},
   "source": [
    "# 跳台阶(变态跳)"
   ]
  },
  {
   "cell_type": "markdown",
   "metadata": {},
   "source": [
    "### 问题： 一只青蛙一次可以跳上1级台阶，也可以跳上2级……它也可以跳上n级。求该青蛙跳上一个n级的台阶总共有多少种跳法。\n",
    "\n"
   ]
  },
  {
   "cell_type": "markdown",
   "metadata": {},
   "source": [
    "![](images/frog_jump_n.jpg)\n",
    "\n",
    "[](https://imgconvert.csdnimg.cn/aHR0cHM6Ly9yYXcuZ2l0aHVidXNlcmNvbnRlbnQuY29tL0NveGh1YW5nL3lvc29yby9tYXN0ZXIvMjAxOTA1MjAxOTQzMDUtaW1hZ2UucG5n?x-oss-process=image/format,png)"
   ]
  },
  {
   "cell_type": "markdown",
   "metadata": {},
   "source": [
    "```\n",
    "当跳1级台阶时，f(1) = 1;\n",
    "当跳2级台阶时，f(2) = f(1) + 1 = 2;\n",
    "当跳3级台阶时，f(3) = f(2) + f(1) + 1 = 4;\n",
    "当跳4级台阶时，f(4) = f(3) + f(2) + f(1) + 1 = 8;\n",
    "\n",
    "f(n-1) = f(n-2) +...+ f(2) + f(1) + 1\n",
    "f(n) = f(n-1) + f(n-2) +...+ f(2) + f(1) + 1\n",
    "\n",
    "故：f(n) = f(0) + f(1) + f(2) + f(3) + ... + f(n-2) + f(n-1) = f(n-1) + f(n-1) = 2*f(n-1)\n",
    "            | 1       ,(n=0 ) \n",
    "            |\n",
    "f(n) =      | 1       ,(n=1 )\n",
    "            |\n",
    "            | 2*f(n-1),(n>=2)\n",
    "\n",
    "```"
   ]
  },
  {
   "cell_type": "markdown",
   "metadata": {},
   "source": [
    "## 递归"
   ]
  },
  {
   "cell_type": "code",
   "execution_count": null,
   "metadata": {},
   "outputs": [],
   "source": [
    "# 递归 - 法1\n",
    "def jump(n):\n",
    "    if n<2:\n",
    "        return n\n",
    "    return jump(n-1)*2\n",
    "\n",
    "print(jump(1))\n",
    "print(jump(2))\n",
    "print(jump(5))"
   ]
  },
  {
   "cell_type": "code",
   "execution_count": null,
   "metadata": {},
   "outputs": [],
   "source": [
    "# 递归 - 法2\n",
    "def jump(n):\n",
    "    while n<=2:\n",
    "        return n\n",
    "    return 2**(n-1)\n",
    "\n",
    "print(jump(5))"
   ]
  },
  {
   "cell_type": "markdown",
   "metadata": {},
   "source": [
    "# 兔子繁殖"
   ]
  },
  {
   "cell_type": "markdown",
   "metadata": {},
   "source": [
    "**问题：有一对兔子，从出生后第3个月起每个月都生一对兔子，小兔子长到第三个月后每个月又生一对兔子，假如兔子都不死，问每个月的兔子总数为多少？**"
   ]
  },
  {
   "cell_type": "markdown",
   "metadata": {},
   "source": [
    "```\n",
    "f(N) : 第N个月兔子的总数\n",
    "f(Nbefore) : 第N个月之前出生的兔子\n",
    "f(Nnew) : 第N个月出生的兔子\n",
    "f(N) = f(Nbefore) + f(Nnew) = f(N-1) + f(Nnew)\n",
    "```\n",
    "\n",
    "到了第(N+1)个月时:第N个月出生的兔子还不能繁殖,第N个月之前出生的兔子全部都可以繁殖\n",
    "```\n",
    "f(N+1) = f(Nnew) + f(Nbefore)2 = f(Nnew) + 2f(N-1)\n",
    "```\n",
    "\n",
    "由:\n",
    "```\n",
    "f(N) =  f(N-1) + f(Nnew)\n",
    "f(N+1) = f(Nnew) + 2*f(N-1)\n",
    "```\n",
    "得:\n",
    "```\n",
    "f(N+1) = f(N) + f(N-1)\n",
    "```\n",
    "\n",
    "\n"
   ]
  },
  {
   "cell_type": "code",
   "execution_count": null,
   "metadata": {},
   "outputs": [],
   "source": [
    "def fib(max_val):\n",
    "    a, b, n = 1, 2, max_val\n",
    "    while n:\n",
    "        a, b = b, a+b\n",
    "        n -= 1\n",
    "    return b\n",
    "\n",
    "n = 5 # 第N月\n",
    "ret = n if n <= 2 else fib(n)\n",
    "print(ret)"
   ]
  },
  {
   "cell_type": "markdown",
   "metadata": {},
   "source": [
    "# 埃氏筛法计算素数（质数）\n",
    "埃氏筛法的算法很简单：\n",
    "1. 从2开始造一个自然数序列：2，3，4，5，6，7……\n",
    "2. 取第一个数2，2一定是一个素数，然后用2把序列中2的倍数筛掉；\n",
    "3. 取新序列中的第一个数3，用3把序列中3的倍数筛掉；\n",
    "4. 取新序列第一个数5，把5的倍数全部筛掉；\n",
    "5. 不断筛下去，就可以得到所有的素数；"
   ]
  },
  {
   "cell_type": "markdown",
   "metadata": {},
   "source": [
    "### 我的解法"
   ]
  },
  {
   "cell_type": "code",
   "execution_count": null,
   "metadata": {},
   "outputs": [],
   "source": [
    "#输出100以内的所有素数：\n",
    "\n",
    "prime_list = []\n",
    "for i in range(2,101):\n",
    "    prime_list.append(i)\n",
    "\n",
    "output = []\n",
    "while True:\n",
    "    output.append(prime_list[0])\n",
    "    prime_list = list(filter(lambda x:x%prime_list[0]>0, prime_list))\n",
    "    if not prime_list:\n",
    "        break\n",
    "\n",
    "ret = []    \n",
    "for i in output:\n",
    "    ret.append(i)\n",
    "print(ret)"
   ]
  },
  {
   "cell_type": "markdown",
   "metadata": {},
   "source": [
    "#### 我的练习"
   ]
  },
  {
   "cell_type": "code",
   "execution_count": null,
   "metadata": {},
   "outputs": [],
   "source": [
    "def odd_iter():\n",
    "    i = 1\n",
    "    while True:\n",
    "        i+=2\n",
    "        yield i\n",
    "\n",
    "def _not_divisible(n):\n",
    "    return lambda x : x % n > 0\n",
    "\n",
    "def primes():\n",
    "    yield 2\n",
    "    it = odd_iter()\n",
    "    while True:\n",
    "        item = next(it)\n",
    "        yield item\n",
    "        it = filter(_not_divisible(item),it)\n",
    "        \n",
    "def print_prime(max):   \n",
    "    ret = []\n",
    "    for n in primes():\n",
    "        if n < max:\n",
    "            ret.append(n)\n",
    "        else:\n",
    "            break\n",
    "    return ret\n",
    "print(print_prime(100))"
   ]
  },
  {
   "cell_type": "markdown",
   "metadata": {},
   "source": [
    "### [Python案例：使用埃氏筛法计算素数](https://blog.csdn.net/andy_super/article/details/80937770)"
   ]
  },
  {
   "cell_type": "code",
   "execution_count": null,
   "metadata": {},
   "outputs": [],
   "source": [
    "#埃氏筛法计算素数\n",
    "\n",
    "# generate an odd sequence\n",
    "\n",
    "def _odd_iter():\n",
    "    i = 1\n",
    "    while True:\n",
    "        i += 2\n",
    "        yield i\n",
    "\n",
    "def _not_divisible(n):\n",
    "    #print(\"filter for prime number %d\", n)\n",
    "    return lambda x : x % n > 0\n",
    "\n",
    "def _prime():\n",
    "    yield 2\n",
    "    it = _odd_iter()    \n",
    "    while True:\n",
    "        n = next(it)\n",
    "        #print(\"Yield prime number %d\", n)\n",
    "        yield n\n",
    "        it = filter(_not_divisible(n), it)\n",
    "        # it = filter(lambda x : x % n > 0, it)\n",
    "\n",
    "ret = []\n",
    "for n in _prime():    \n",
    "    if n < 100:\n",
    "        ret.append(n)\n",
    "    else:\n",
    "        break\n",
    "print(ret)"
   ]
  },
  {
   "cell_type": "markdown",
   "metadata": {},
   "source": [
    "## 回数是指从左向右读和从右向左读都是一样的数，例如 12321 ， 909 。请利用 filter() 滤掉非回数"
   ]
  },
  {
   "cell_type": "code",
   "execution_count": null,
   "metadata": {},
   "outputs": [],
   "source": [
    "def is_palindrome(num):\n",
    "    str_num_reverse = str(num)[::-1]\n",
    "    return str(num) == str_num_reverse  # 核心是转成string\n",
    "\n",
    "list_input = range(1,100)\n",
    "list_output = filter(lambda x:is_palindrome(x), list_input)\n",
    "print(list(list_output))"
   ]
  },
  {
   "cell_type": "code",
   "execution_count": null,
   "metadata": {},
   "outputs": [],
   "source": []
  }
 ],
 "metadata": {
  "kernelspec": {
   "display_name": "Python 3",
   "language": "python",
   "name": "python3"
  },
  "language_info": {
   "codemirror_mode": {
    "name": "ipython",
    "version": 3
   },
   "file_extension": ".py",
   "mimetype": "text/x-python",
   "name": "python",
   "nbconvert_exporter": "python",
   "pygments_lexer": "ipython3",
   "version": "3.7.4"
  }
 },
 "nbformat": 4,
 "nbformat_minor": 2
}
