{
 "cells": [
  {
   "cell_type": "markdown",
   "metadata": {},
   "source": [
    "###  Write Python logic to count the number of capital letters in a file\n",
    "\n",
    "- read() 读取整个文件，将文件内容放到一个字符串变量中。\n",
    "- readline() 每次读取一行；返回的是一个字符串对象，保持当前行的内存\n",
    "- readlines() 一次性读取整个文件；自动将文件内容分析成一个行的列表"
   ]
  },
  {
   "cell_type": "code",
   "execution_count": 10,
   "metadata": {},
   "outputs": [
    {
     "name": "stdout",
     "output_type": "stream",
     "text": [
      "97\n"
     ]
    }
   ],
   "source": [
    "import os\n",
    "os.chdir(\"c:\\\\users\\\\alu\\\\desktop\")\n",
    "with open(\"django.txt\") as f:\n",
    "    num = 0\n",
    "    for i in f.read():\n",
    "        if i.isupper():\n",
    "            num += 1\n",
    "\n",
    "print(num)"
   ]
  },
  {
   "cell_type": "code",
   "execution_count": null,
   "metadata": {},
   "outputs": [],
   "source": []
  }
 ],
 "metadata": {
  "kernelspec": {
   "display_name": "Python 3",
   "language": "python",
   "name": "python3"
  },
  "language_info": {
   "codemirror_mode": {
    "name": "ipython",
    "version": 3
   },
   "file_extension": ".py",
   "mimetype": "text/x-python",
   "name": "python",
   "nbconvert_exporter": "python",
   "pygments_lexer": "ipython3",
   "version": "3.7.4"
  }
 },
 "nbformat": 4,
 "nbformat_minor": 2
}
