{
 "cells": [
  {
   "cell_type": "markdown",
   "metadata": {},
   "source": [
    "# 1. Bubble Sort 冒泡排序\n",
    "复杂度 O(n2)"
   ]
  },
  {
   "cell_type": "code",
   "execution_count": 17,
   "metadata": {},
   "outputs": [
    {
     "name": "stdout",
     "output_type": "stream",
     "text": [
      "请输入需要排序的数据,逗号隔开,回车结束:3,3,5,7,2,7,3,6,2,5\n"
     ]
    },
    {
     "data": {
      "text/plain": [
       "[2, 2, 3, 3, 3, 5, 6, 7, 7, 5]"
      ]
     },
     "execution_count": 17,
     "metadata": {},
     "output_type": "execute_result"
    }
   ],
   "source": [
    "# My solution\n",
    "def bubble_sort(list_input):\n",
    "    # for i in range(len(list_input)-1):\n",
    "        # for j in range(len(list_input)-i):\n",
    "    for i in range(1, len(list_input)):\n",
    "        for j in range(len(list_input)-i):        \n",
    "            if list_input[j] > list_input[j+1]:\n",
    "                # tmp = list_input[j+1]\n",
    "                # list_input[j+1] = list_input[j]\n",
    "                # list_input[j] = tmp\n",
    "                list_input[j+1], list_input[j] = list_input[j], list_input[j+1]\n",
    "    return list_input\n",
    "\n",
    "nums = list(eval(input(\"请输入需要排序的数据,逗号隔开,回车结束:\")))                \n",
    "bubble_sort(nums)        "
   ]
  },
  {
   "cell_type": "code",
   "execution_count": 16,
   "metadata": {},
   "outputs": [
    {
     "name": "stdout",
     "output_type": "stream",
     "text": [
      "Please input your list with comma seperated, end with enter:3,3,5,7,2,7,3,6,2,5\n",
      "[2, 2, 3, 3, 3, 5, 5, 6, 7, 7]\n"
     ]
    }
   ],
   "source": [
    "def bubble_sort(in_list): \n",
    "    for i in range(len(in_list)-1): # loop times, maybe (range(1, len(arr)))is better \n",
    "        for j in range(len(in_list)-1-i): # index of list\n",
    "            if in_list[j] > in_list[j+1]:\n",
    "                in_list[j],in_list[j+1] = in_list[j+1],in_list[j]\n",
    "    return in_list\n",
    "\n",
    "nums = list(eval(input(\"Please input your list with comma seperated, end with enter:\")))\n",
    "print(bubble_sort(nums))\n"
   ]
  },
  {
   "cell_type": "code",
   "execution_count": 2,
   "metadata": {},
   "outputs": [],
   "source": [
    "# 参考方法 1\n",
    "def bubbleSort(arr):\n",
    "    for i in range(1, len(arr)):\n",
    "        for j in range(0, len(arr)-i):\n",
    "            if arr[j] > arr[j+1]:\n",
    "                arr[j], arr[j + 1] = arr[j + 1], arr[j]\n",
    "    return arr"
   ]
  },
  {
   "cell_type": "markdown",
   "metadata": {},
   "source": [
    "# 2. Selection Sort 选择排序"
   ]
  },
  {
   "cell_type": "markdown",
   "metadata": {},
   "source": [
    "\n",
    "选择排序（Selection sort）是一种简单直观的排序算法。\n",
    "它的工作原理是每一次从待排序的数据元素中选出最小（或最大）的一个元素，\n",
    "存放在序列的起始位置，直到全部待排序的数据元素排完\n"
   ]
  },
  {
   "cell_type": "code",
   "execution_count": 6,
   "metadata": {},
   "outputs": [
    {
     "name": "stdout",
     "output_type": "stream",
     "text": [
      "[1, 3, 3, 4, 5, 6, 7, 8, 9]\n"
     ]
    }
   ],
   "source": [
    "# My method (I think it's better comparing to reference solutions)\n",
    "def selection_sort(in_list):\n",
    "    if(len(in_list)<2): return in_list\n",
    "    index_min = 0\n",
    "    index_max = len(in_list) - 1\n",
    "    while index_min < index_max:\n",
    "        for i in range(index_min, index_max+1):\n",
    "            if in_list[i] < in_list[index_min]:\n",
    "                in_list[i],in_list[index_min] = in_list[index_min],in_list[i]\n",
    "            if in_list[i] > in_list[index_max]:\n",
    "                in_list[i],in_list[index_max] = in_list[index_max],in_list[i]\n",
    "        index_min += 1\n",
    "        index_max -= 1\n",
    "    return in_list\n",
    "\n",
    "l1 = [1,7,9,4,6,8,3,5,3]\n",
    "print(selection_sort(l1))"
   ]
  },
  {
   "cell_type": "code",
   "execution_count": 24,
   "metadata": {},
   "outputs": [
    {
     "name": "stdout",
     "output_type": "stream",
     "text": [
      "[1, 3, 7, 3, 5, 6, 4, 8, 9]\n"
     ]
    }
   ],
   "source": [
    "# My solution 2\n",
    "def selection_sort(in_list):\n",
    "    for j in range(0,len(in_list)-1): # j is min index\n",
    "        index_min = j\n",
    "        for i in range(j+1,len(in_list)):\n",
    "            if in_list[i] < in_list[index_min]:\n",
    "                # in_list[i],in_list[index_min] = in_list[index_min],in_list[i]  # DON't DO THIS\n",
    "                index_min = i\n",
    "        if j != index_min:\n",
    "            in_list[j],in_list[index_min] = in_list[index_min],in_list[j]\n",
    "    return in_list\n",
    "\n",
    "l1 = [1,7,9,4,6,8,3,5,3]\n",
    "print(selection_sort(l1))"
   ]
  },
  {
   "cell_type": "code",
   "execution_count": 7,
   "metadata": {},
   "outputs": [
    {
     "name": "stdout",
     "output_type": "stream",
     "text": [
      "请输入需要排序的数据,逗号隔开,回车结束:1,7,9,4,6,8,3,5,3\n",
      "[1, 3, 3, 4, 5, 6, 7, 8, 9]\n"
     ]
    }
   ],
   "source": [
    "# 参考方法 1\n",
    "class Solution(object):\n",
    "\n",
    "    def selection(self):\n",
    "\n",
    "        nums = list(eval(input(\"请输入需要排序的数据,逗号隔开,回车结束:\")))\n",
    "\n",
    "        len_bums = len(nums)\n",
    "        for i in range(len_bums):\n",
    "            min_value = [i,nums[i]]\n",
    "            for j in range(i+1,len_bums):\n",
    "                if min_value[1] > nums[j]:\n",
    "                    min_value[1], nums[j] = nums[j], min_value[1]\n",
    "                    min_value[0] = j\n",
    "\n",
    "            nums[i] = min_value[1]\n",
    "\n",
    "        return nums\n",
    "\n",
    "print(Solution().selection())"
   ]
  },
  {
   "cell_type": "code",
   "execution_count": 1,
   "metadata": {},
   "outputs": [],
   "source": [
    "# 参考方法 2\n",
    "def selectionSort(arr):\n",
    "    for i in range(len(arr) - 1):\n",
    "        # 记录最小数的索引\n",
    "        minIndex = i\n",
    "        for j in range(i + 1, len(arr)):\n",
    "            if arr[j] < arr[minIndex]:\n",
    "                minIndex = j\n",
    "        # i 不是最小数时，将 i 和最小数进行交换\n",
    "        if i != minIndex:\n",
    "            arr[i], arr[minIndex] = arr[minIndex], arr[i]\n",
    "    return arr"
   ]
  },
  {
   "cell_type": "markdown",
   "metadata": {},
   "source": [
    "# 3. Insert Sort 插入排序"
   ]
  },
  {
   "cell_type": "code",
   "execution_count": null,
   "metadata": {},
   "outputs": [],
   "source": [
    "\"\"\"\n",
    "# 插入排序\n",
    "要求在这个已经排好的数据序列中插入一个数，但要求插入后此数据序列仍然有序，\n",
    "这个时候就要用到一种新的排序方法——插入排序法,插入排序的基本操作就是将一个数据插入到已经排好序的有序数据中，\n",
    "从而得到一个新的、个数加一的有序数据，算法适用于少量数据的排序，时间复杂度为O(n^2)。\n",
    "\"\"\""
   ]
  },
  {
   "cell_type": "code",
   "execution_count": 32,
   "metadata": {},
   "outputs": [
    {
     "name": "stdout",
     "output_type": "stream",
     "text": [
      "[1, 3, 3, 4, 5, 6, 7, 8, 9]\n"
     ]
    }
   ],
   "source": [
    "# My solution\n",
    "def insert_sort(arr):\n",
    "    if len(arr) <= 1: return arr\n",
    "    for i in range(1,len(arr)):\n",
    "        current = arr[i]\n",
    "        for j in range(i-1,0,-1):\n",
    "            if current<=arr[j]:\n",
    "                arr[j+1]=arr[j]                \n",
    "            else:\n",
    "                break\n",
    "            arr[j]=current\n",
    "    return arr\n",
    "\n",
    "l1 = [1,7,9,4,6,8,3,5,3]\n",
    "print(insert_sort(l1))"
   ]
  },
  {
   "cell_type": "code",
   "execution_count": 14,
   "metadata": {},
   "outputs": [
    {
     "name": "stdout",
     "output_type": "stream",
     "text": [
      "请输入需要排序的数据,逗号隔开,回车结束:1,7,9,4,6,8,3,5,3\n",
      "[1, 3, 3, 4, 5, 6, 7, 8, 9]\n"
     ]
    }
   ],
   "source": [
    "# 参考方法 1\n",
    "class Solution(object):\n",
    "    def insertion(self):\n",
    "\n",
    "        nums = list(eval(input(\"请输入需要排序的数据,逗号隔开,回车结束:\")))\n",
    "\n",
    "        len_nums = len(nums)\n",
    "        for i in range(len_nums):\n",
    "            for j in range(i):\n",
    "                if nums[i-j] < nums[i-1-j]:\n",
    "                    nums[i-j], nums[i-1-j] = nums[i-1-j], nums[i-j]\n",
    "                else:\n",
    "                    break\n",
    "\n",
    "        return nums\n",
    "\n",
    "print(Solution().insertion())"
   ]
  },
  {
   "cell_type": "code",
   "execution_count": null,
   "metadata": {},
   "outputs": [],
   "source": [
    "# 参考方法 2\n",
    "def insertionSort(arr):\n",
    "    for i in range(len(arr)):\n",
    "        preIndex = i-1\n",
    "        current = arr[i]\n",
    "        while preIndex >= 0 and arr[preIndex] > current:\n",
    "            arr[preIndex+1] = arr[preIndex]\n",
    "            preIndex-=1\n",
    "        arr[preIndex+1] = current\n",
    "    return arr"
   ]
  },
  {
   "cell_type": "markdown",
   "metadata": {},
   "source": [
    "# 4. Shell Sort 希尔排序\n"
   ]
  },
  {
   "cell_type": "code",
   "execution_count": 14,
   "metadata": {},
   "outputs": [
    {
     "name": "stdout",
     "output_type": "stream",
     "text": [
      "[1, 3, 3, 4, 5, 6, 7, 8, 9]\n"
     ]
    }
   ],
   "source": [
    "# My practice\n",
    "def shell_sort(arr):\n",
    "    import math\n",
    "    length = len(arr)\n",
    "    gap = 1\n",
    "    while gap < length/3:\n",
    "        gap = 3*gap + 1\n",
    "    while gap > 0:\n",
    "        for i in range(gap,len(arr)):\n",
    "            current = arr[i]\n",
    "            j = i-gap\n",
    "            while j>0 and arr[j]>current:\n",
    "                arr[j+gap]=arr[j]\n",
    "                j -= gap\n",
    "            arr[j+gap]=current\n",
    "        gap = math.floor(gap/3)\n",
    "    return arr\n",
    "        \n",
    "l1 = [1,7,9,4,6,8,3,5,3]\n",
    "print(shell_sort(l1))        "
   ]
  },
  {
   "cell_type": "code",
   "execution_count": 4,
   "metadata": {},
   "outputs": [],
   "source": [
    "# 参考方法 1\n",
    "def shellSort(arr):\n",
    "    import math\n",
    "    gap=1\n",
    "    while(gap < len(arr)/3):\n",
    "        gap = gap*3+1\n",
    "    while gap > 0:\n",
    "        for i in range(gap,len(arr)): # 进行插入排序 (Bin)\n",
    "            temp = arr[i]\n",
    "            j = i-gap\n",
    "            while j >=0 and arr[j] > temp:\n",
    "                arr[j+gap]=arr[j]\n",
    "                j-=gap\n",
    "            arr[j+gap] = temp\n",
    "        gap = math.floor(gap/3)\n",
    "    return arr\n"
   ]
  },
  {
   "cell_type": "markdown",
   "metadata": {},
   "source": [
    "# 5. Merge Sort 归并排序"
   ]
  },
  {
   "cell_type": "code",
   "execution_count": null,
   "metadata": {},
   "outputs": [],
   "source": [
    "# my solution\n",
    "def merge(arr1, arr2):\n",
    "    tmp = []\n",
    "    while len(arr1) and len(arr2):\n",
    "        if arr1[0] <= arr2[0]:\n",
    "            tmp.append(arr1[0])\n",
    "        else:\n",
    "            tmp.append(arr2[0])\n",
    "    if len(arr1):\n",
    "        tmp.extend(arr1)\n",
    "    if len(arr2):\n",
    "        tmp.extend(arr2)\n",
    "    return tmp\n",
    "\n",
    "import math\n",
    "def merge_sort(arr):\n",
    "    if len(arr) <2: return arr\n",
    "    middle = math.floor(len(arr)/2)\n",
    "    arr1 = arr[0:middle]\n",
    "    arr2 = arr[middle:len(arr)]\n",
    "    return merge(arr1, arr2)\n",
    "\n",
    "l1 = [1,7,9,4,6,8,3,5,3]\n",
    "print(merge_sort(l1))"
   ]
  },
  {
   "cell_type": "code",
   "execution_count": 1,
   "metadata": {},
   "outputs": [
    {
     "name": "stdout",
     "output_type": "stream",
     "text": [
      "[1, 2, 3, 4, 5, 6, 7, 8, 9, 10, 11]\n"
     ]
    }
   ],
   "source": [
    "# My solution\n",
    "## 合并两个有序列表\n",
    "def merge_sorted_list(l1,l2):\n",
    "    tmp = []\n",
    "    if l1 is None:\n",
    "        tmp = l2\n",
    "    elif l2 is None:\n",
    "        tmp = l1\n",
    "    else:        \n",
    "        while len(l1) and len(l2):\n",
    "            if l1[0] > l2[0]:\n",
    "                tmp.append(l2.pop(0))                \n",
    "            else:\n",
    "                tmp.append(l1.pop(0))                \n",
    "        if l1 or l2:\n",
    "            tmp.extend(l1)\n",
    "            tmp.extend(l2)\n",
    "    return tmp\n",
    "\n",
    "a = [1,3,5,7,9,11]\n",
    "b = [2,4,6,8,10]\n",
    "print(merge_sorted_list(a,b))"
   ]
  },
  {
   "cell_type": "code",
   "execution_count": 5,
   "metadata": {},
   "outputs": [],
   "source": [
    "# 参考方法 1\n",
    "def mergeSort(arr):\n",
    "    import math\n",
    "    if(len(arr)<2):\n",
    "        return arr\n",
    "    middle = math.floor(len(arr)/2)\n",
    "    left, right = arr[0:middle], arr[middle:]\n",
    "    return merge(mergeSort(left), mergeSort(right))\n",
    "\n",
    "def merge(left,right):\n",
    "    result = []\n",
    "    while left and right:\n",
    "        if left[0] <= right[0]:\n",
    "            result.append(left.pop(0));\n",
    "        else:\n",
    "            result.append(right.pop(0));\n",
    "    while left:\n",
    "        result.append(left.pop(0));\n",
    "    while right:\n",
    "        result.append(right.pop(0));\n",
    "    return result"
   ]
  },
  {
   "cell_type": "markdown",
   "metadata": {},
   "source": [
    "# 6. Quick Sort 快速排序\n"
   ]
  },
  {
   "cell_type": "code",
   "execution_count": 8,
   "metadata": {},
   "outputs": [
    {
     "name": "stdout",
     "output_type": "stream",
     "text": [
      "[1, 3, 3, 4, 5, 6, 7, 8, 9]\n"
     ]
    }
   ],
   "source": [
    "# My solution - with recusion\n",
    "def quick_sort(arr):\n",
    "    if len(arr) < 2: return arr\n",
    "    pivot = arr[0]\n",
    "    a1 = list(filter(lambda x:x<=pivot, arr[1:]))\n",
    "    a2 = list(filter(lambda x:x>pivot, arr[1:]))\n",
    "    return quick_sort(a1) + [pivot] + quick_sort(a2)\n",
    "\n",
    "l1 = [1,7,9,4,6,8,3,5,3]\n",
    "print(quick_sort(l1))"
   ]
  },
  {
   "cell_type": "code",
   "execution_count": 1,
   "metadata": {},
   "outputs": [],
   "source": [
    "# my practice\n",
    "def quick_sort(list):\n",
    "    if len(list) < 2:\n",
    "        return list\n",
    "    else:\n",
    "        mid = list[0]\n",
    "        #lessthanmid = list(filter(lambda x:x<=mid, list[1:]))\n",
    "        lessthanmid = [item for item in list[1:] if item<=mid]\n",
    "        biggerthanmid = [item for item in list[1:] if item>mid]\n",
    "        #biggerthanmid = list(filter(lambda x:x>mid, list))\n",
    "        finnallist = quick_sort(lessthanmid) + [mid] + quick_sort(biggerthanmid)\n",
    "        return finnallist"
   ]
  },
  {
   "cell_type": "code",
   "execution_count": 9,
   "metadata": {},
   "outputs": [],
   "source": [
    "# my solution - without recusion\n",
    "def quick_sort(arr):\n",
    "    if len(arr) < 2: return arr\n",
    "    pass"
   ]
  },
  {
   "cell_type": "code",
   "execution_count": 6,
   "metadata": {},
   "outputs": [],
   "source": [
    "def quickSort(arr, left=None, right=None):\n",
    "    left = 0 if not isinstance(left,(int, float)) else left\n",
    "    right = len(arr)-1 if not isinstance(right,(int, float)) else right\n",
    "    if left < right:\n",
    "        partitionIndex = partition(arr, left, right)\n",
    "        quickSort(arr, left, partitionIndex-1)\n",
    "        quickSort(arr, partitionIndex+1, right)\n",
    "    return arr\n",
    "\n",
    "def partition(arr, left, right):\n",
    "    pivot = left\n",
    "    index = pivot+1\n",
    "    i = index\n",
    "    while  i <= right:\n",
    "        if arr[i] < arr[pivot]: \n",
    "            swap(arr, i, index) # this element left to cursor (index) are all less than pivot\n",
    "            index+=1\n",
    "        i+=1\n",
    "    swap(arr,pivot,index-1) # replace cursor-1 with pivot, then element left to pivot are less than it\n",
    "    return index-1\n",
    "\n",
    "def swap(arr, i, j):\n",
    "    arr[i], arr[j] = arr[j], arr[i]"
   ]
  },
  {
   "cell_type": "markdown",
   "metadata": {},
   "source": [
    "# 7. Heap Sort 堆排序"
   ]
  },
  {
   "cell_type": "code",
   "execution_count": 11,
   "metadata": {},
   "outputs": [
    {
     "data": {
      "text/plain": [
       "'\\n# 堆排序\\n每个结点的值都大于或等于其左右孩子结点的值，称为大顶堆；\\n每个结点的值都小于或等于其左右孩子结点的值，称为小顶堆\\n'"
      ]
     },
     "execution_count": 11,
     "metadata": {},
     "output_type": "execute_result"
    }
   ],
   "source": [
    "\"\"\"\n",
    "# 堆排序\n",
    "每个结点的值都大于或等于其左右孩子结点的值，称为大顶堆；\n",
    "每个结点的值都小于或等于其左右孩子结点的值，称为小顶堆\n",
    "\"\"\""
   ]
  },
  {
   "cell_type": "code",
   "execution_count": 14,
   "metadata": {},
   "outputs": [
    {
     "name": "stdout",
     "output_type": "stream",
     "text": [
      "[1, 3, 3, 4, 5, 6, 7, 8, 9]\n"
     ]
    }
   ],
   "source": [
    "# My practice\n",
    "def build_max_heap(arr):\n",
    "    import math\n",
    "    for i in range(math.floor(len(arr)/2),-1,-1):\n",
    "        heapify(arr,i)\n",
    "\n",
    "def heapify(arr, i):\n",
    "    lchild = 2*i+1\n",
    "    rchild = 2*i+2\n",
    "    largest = i\n",
    "    if lchild < global_arr_lengt and arr[lchild] > arr[largest]:        \n",
    "        largest = lchild\n",
    "    if rchild < global_arr_lengt and arr[rchild] > arr[largest]:\n",
    "        largest = rchild\n",
    "    if i != largest:\n",
    "        arr[i],arr[largest]=arr[largest],arr[i]\n",
    "        heapify(arr,largest)\n",
    "        \n",
    "def heap_sort(arr):\n",
    "    global global_arr_lengt\n",
    "    global_arr_lengt = len(arr)\n",
    "    build_max_heap(arr)\n",
    "    for i in range(len(arr)-1,0,-1):\n",
    "        arr[0],arr[i] = arr[i],arr[0]\n",
    "        global_arr_lengt -= 1\n",
    "        heapify(arr,0)\n",
    "    return arr\n",
    "\n",
    "\n",
    "l1 = [1,7,9,4,6,8,3,5,3]\n",
    "print(heap_sort(l1))"
   ]
  },
  {
   "cell_type": "code",
   "execution_count": 1,
   "metadata": {},
   "outputs": [
    {
     "name": "stdout",
     "output_type": "stream",
     "text": [
      "[1, 3, 3, 4, 5, 6, 7, 8, 9]\n"
     ]
    }
   ],
   "source": [
    "# 参考方法 1\n",
    "def buildMaxHeap(arr): # （Bin）大顶堆，堆表不需要特别去建立，输入数据就可以想象成一个堆结构，要做的是按堆结构排序\n",
    "    import math\n",
    "    for i in range(math.floor(len(arr)/2),-1,-1):\n",
    "        heapify(arr,i)\n",
    "\n",
    "def heapify(arr, i):\n",
    "    left = 2*i+1\n",
    "    right = 2*i+2\n",
    "    largest = i\n",
    "    if left < arrLen and arr[left] > arr[largest]:\n",
    "        largest = left\n",
    "    if right < arrLen and arr[right] > arr[largest]:\n",
    "        largest = right\n",
    "\n",
    "    if largest != i:\n",
    "        swap(arr, i, largest)\n",
    "        heapify(arr, largest) # （Bin）这个思路有没有问题？即使递归往下，但是这个值已经没法再往根传递了。所以还得依靠buildMaxHeap从下面往上build\n",
    "\n",
    "def swap(arr, i, j):\n",
    "    arr[i], arr[j] = arr[j], arr[i]\n",
    "\n",
    "def heapSort(arr):\n",
    "    global arrLen\n",
    "    arrLen = len(arr)\n",
    "    buildMaxHeap(arr)\n",
    "    for i in range(len(arr)-1,0,-1):\n",
    "        swap(arr,0,i)\n",
    "        arrLen -=1\n",
    "        heapify(arr, 0)\n",
    "    return arr\n",
    "\n",
    "l1 = [1,7,9,4,6,8,3,5,3]\n",
    "print(heapSort(l1))"
   ]
  },
  {
   "cell_type": "markdown",
   "metadata": {},
   "source": [
    "# 8. Count Sort 计数排序"
   ]
  },
  {
   "cell_type": "code",
   "execution_count": 8,
   "metadata": {},
   "outputs": [],
   "source": [
    "def countingSort(arr, maxValue):\n",
    "    bucketLen = maxValue+1\n",
    "    bucket = [0]*bucketLen\n",
    "    sortedIndex =0\n",
    "    arrLen = len(arr)\n",
    "    for i in range(arrLen):\n",
    "        if not bucket[arr[i]]: # duplicated code (Bin)?\n",
    "            bucket[arr[i]]=0\n",
    "        bucket[arr[i]]+=1\n",
    "    for j in range(bucketLen):\n",
    "        while bucket[j]>0:\n",
    "            arr[sortedIndex] = j\n",
    "            sortedIndex+=1\n",
    "            bucket[j]-=1\n",
    "    return arr"
   ]
  },
  {
   "cell_type": "markdown",
   "metadata": {},
   "source": [
    "# 9. Buck Sort"
   ]
  },
  {
   "cell_type": "code",
   "execution_count": 9,
   "metadata": {},
   "outputs": [
    {
     "ename": "IndentationError",
     "evalue": "expected an indented block (<ipython-input-9-6949824d80e3>, line 2)",
     "output_type": "error",
     "traceback": [
      "\u001b[1;36m  File \u001b[1;32m\"<ipython-input-9-6949824d80e3>\"\u001b[1;36m, line \u001b[1;32m2\u001b[0m\n\u001b[1;33m    \"\"\"桶排序\"\"\"\u001b[0m\n\u001b[1;37m            ^\u001b[0m\n\u001b[1;31mIndentationError\u001b[0m\u001b[1;31m:\u001b[0m expected an indented block\n"
     ]
    }
   ],
   "source": [
    "def bucket_sort(s):\n",
    "\"\"\"桶排序\"\"\"\n",
    "    min_num = min(s)\n",
    "    max_num = max(s)\n",
    "# 桶的大小\n",
    "    bucket_range = (max_num-min_num) / len(s)\n",
    "# 桶数组\n",
    "    count_list = [ [] for i in range(len(s) + 1)]\n",
    "# 向桶数组填数\n",
    "for i in s:\n",
    "    count_list[int((i-min_num)//bucket_range)].append(i)\n",
    "s.clear()\n",
    "# 回填，这里桶内部排序直接调用了sorted\n",
    "for i in count_list:\n",
    "    for j in sorted(i):\n",
    "        s.append(j)\n",
    "\n",
    "if __name__ ==  __main__ :\n",
    "    a = [3.2,6,8,4,2,6,7,3]\n",
    "    bucket_sort(a)\n",
    "    print(a) # [2, 3, 3.2, 4, 6, 6, 7, 8]"
   ]
  },
  {
   "cell_type": "markdown",
   "metadata": {},
   "source": [
    "# radix 基数排序"
   ]
  },
  {
   "cell_type": "code",
   "execution_count": 10,
   "metadata": {},
   "outputs": [],
   "source": [
    "def radix(arr):\n",
    "    \n",
    "    digit = 0\n",
    "    max_digit = 1\n",
    "    max_value = max(arr)\n",
    "    #找出列表中最大的位数\n",
    "    while 10**max_digit < max_value:\n",
    "        max_digit = max_digit + 1\n",
    "    \n",
    "    while digit < max_digit:\n",
    "        temp = [[] for i in range(10)]\n",
    "        for i in arr:\n",
    "            #求出每一个元素的个、十、百位的值\n",
    "            t = int((i/10**digit)%10)\n",
    "            temp[t].append(i)\n",
    "        \n",
    "        coll = []\n",
    "        for bucket in temp:\n",
    "            for i in bucket:\n",
    "                coll.append(i)\n",
    "                \n",
    "        arr = coll\n",
    "        digit = digit + 1\n",
    "\n",
    "    return arr"
   ]
  },
  {
   "cell_type": "code",
   "execution_count": null,
   "metadata": {},
   "outputs": [],
   "source": []
  }
 ],
 "metadata": {
  "kernelspec": {
   "display_name": "Python 3",
   "language": "python",
   "name": "python3"
  },
  "language_info": {
   "codemirror_mode": {
    "name": "ipython",
    "version": 3
   },
   "file_extension": ".py",
   "mimetype": "text/x-python",
   "name": "python",
   "nbconvert_exporter": "python",
   "pygments_lexer": "ipython3",
   "version": "3.5.4"
  }
 },
 "nbformat": 4,
 "nbformat_minor": 2
}
