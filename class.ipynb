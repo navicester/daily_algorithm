{
 "cells": [
  {
   "cell_type": "markdown",
   "metadata": {},
   "source": [
    "## 编写一个类\n",
    "\n",
    "- 有一个属性,实数\n",
    "- 有四个方法,分别实现此实数的加减乘除\n",
    "\n",
    "写一段程序,根据用户输入的加减乘除方法名判断用户输入的方法名是否在类中\n",
    "- 如果在类中,调用此方法\n",
    "- 如果不在类中,打印出错信息通知用户"
   ]
  },
  {
   "cell_type": "code",
   "execution_count": 10,
   "metadata": {},
   "outputs": [
    {
     "name": "stdout",
     "output_type": "stream",
     "text": [
      "method:add\n"
     ]
    },
    {
     "ename": "TypeError",
     "evalue": "add() missing 1 required positional argument: 'val'",
     "output_type": "error",
     "traceback": [
      "\u001b[1;31m---------------------------------------------------------------------------\u001b[0m",
      "\u001b[1;31mTypeError\u001b[0m                                 Traceback (most recent call last)",
      "\u001b[1;32m<ipython-input-10-92aab495ed54>\u001b[0m in \u001b[0;36m<module>\u001b[1;34m\u001b[0m\n\u001b[0;32m     16\u001b[0m \u001b[1;32mif\u001b[0m \u001b[0mhasattr\u001b[0m\u001b[1;33m(\u001b[0m\u001b[0mobj\u001b[0m\u001b[1;33m,\u001b[0m \u001b[0mcmd\u001b[0m\u001b[1;33m)\u001b[0m\u001b[1;33m:\u001b[0m\u001b[1;33m\u001b[0m\u001b[1;33m\u001b[0m\u001b[0m\n\u001b[0;32m     17\u001b[0m     \u001b[0mmtd\u001b[0m \u001b[1;33m=\u001b[0m \u001b[0mgetattr\u001b[0m\u001b[1;33m(\u001b[0m\u001b[0mobj\u001b[0m\u001b[1;33m,\u001b[0m\u001b[0mcmd\u001b[0m\u001b[1;33m)\u001b[0m\u001b[1;33m\u001b[0m\u001b[1;33m\u001b[0m\u001b[0m\n\u001b[1;32m---> 18\u001b[1;33m     \u001b[0mprint\u001b[0m\u001b[1;33m(\u001b[0m\u001b[0mmtd\u001b[0m\u001b[1;33m(\u001b[0m\u001b[1;33m)\u001b[0m\u001b[1;33m)\u001b[0m\u001b[1;33m\u001b[0m\u001b[1;33m\u001b[0m\u001b[0m\n\u001b[0m\u001b[0;32m     19\u001b[0m \u001b[1;32melse\u001b[0m\u001b[1;33m:\u001b[0m\u001b[1;33m\u001b[0m\u001b[1;33m\u001b[0m\u001b[0m\n\u001b[0;32m     20\u001b[0m     \u001b[1;32mraise\u001b[0m \u001b[0mException\u001b[0m\u001b[1;33m(\u001b[0m\u001b[1;34m'method not found'\u001b[0m\u001b[1;33m)\u001b[0m\u001b[1;33m\u001b[0m\u001b[1;33m\u001b[0m\u001b[0m\n",
      "\u001b[1;31mTypeError\u001b[0m: add() missing 1 required positional argument: 'val'"
     ]
    }
   ],
   "source": [
    "class MathObj(object):\n",
    "    value = 0\n",
    "    def add(self, val):\n",
    "        return self.value + val\n",
    "    def sub(self, val):\n",
    "        return self.value - val\n",
    "    def multiply(self, val):\n",
    "        return self.value * val\n",
    "    def divide(self, val):\n",
    "        if not val:\n",
    "            raise Exception(\"error\")\n",
    "        return self.value / val\n",
    "\n",
    "obj = MathObj()\n",
    "cmd = input('method:')\n",
    "if hasattr(obj, cmd):\n",
    "    mtd = getattr(obj,cmd)\n",
    "    print(mtd())\n",
    "else:\n",
    "    raise Exception('method not found')"
   ]
  },
  {
   "cell_type": "code",
   "execution_count": 4,
   "metadata": {},
   "outputs": [
    {
     "name": "stdout",
     "output_type": "stream",
     "text": [
      "1\n"
     ]
    }
   ],
   "source": [
    "l = 'weFdsfs'\n",
    "l=l.lower()\n",
    "print(l.count('w'))"
   ]
  },
  {
   "cell_type": "code",
   "execution_count": 6,
   "metadata": {},
   "outputs": [
    {
     "name": "stdout",
     "output_type": "stream",
     "text": [
      "Input your string : sfsdfsdf\n",
      "input your char : s\n",
      "3\n"
     ]
    }
   ],
   "source": [
    "def count1(instr,ch):\n",
    "    instr = instr.lower()\n",
    "    ch = ch.strip('\\n').strip('\\r').lower()\n",
    "    return instr.count(ch)\n",
    "input_str = input(\"Input your string : \")\n",
    "input_ch = input(\"input your char : \")\n",
    "print(count1(input_str,input_ch))"
   ]
  },
  {
   "cell_type": "code",
   "execution_count": 7,
   "metadata": {},
   "outputs": [
    {
     "name": "stdout",
     "output_type": "stream",
     "text": [
      "wqwqqqqqqqqqqqqq\n",
      "asdasdasdddddddddd\n",
      "wqwqqqq\n",
      "qqqqqqq\n",
      "asdasda\n",
      "ddddddd\n",
      "dd00000\n"
     ]
    }
   ],
   "source": [
    "str1 = input()\n",
    "str2 = input()\n",
    "\n",
    "def split_string(instr):\n",
    "    ret = []\n",
    "    length = len(instr) % 8\n",
    "    if  length > 0:\n",
    "        extend = 8 - length\n",
    "        instr += '0'*extend\n",
    "    \n",
    "    while len(instr) > 0:\n",
    "        ret.append(instr[0:7])\n",
    "        if len(instr) == 8:\n",
    "            break\n",
    "        instr = instr[8:]\n",
    "    # return ret\n",
    "    \n",
    "    for i in ret:\n",
    "        print(i)\n",
    "        \n",
    "split_string(str1)\n",
    "split_string(str2)\n",
    "\n"
   ]
  },
  {
   "cell_type": "code",
   "execution_count": 15,
   "metadata": {},
   "outputs": [
    {
     "name": "stdout",
     "output_type": "stream",
     "text": [
      "[7, 5, 3, 1]\n",
      "sfdsfdba\n"
     ]
    }
   ],
   "source": [
    "lists = [1,3,5,7]\n",
    "lists.reverse()\n",
    "print(lists)\n",
    "strings = 'abdfsdfs'\n",
    "#print(strings.reverse())\n",
    "print(strings[::-1])"
   ]
  },
  {
   "cell_type": "code",
   "execution_count": 19,
   "metadata": {},
   "outputs": [
    {
     "name": "stdout",
     "output_type": "stream",
     "text": [
      "(0, 5)\n"
     ]
    }
   ],
   "source": [
    "import re\n",
    "print(re.match('super', 'superstition').span())"
   ]
  },
  {
   "cell_type": "code",
   "execution_count": 20,
   "metadata": {},
   "outputs": [
    {
     "name": "stdout",
     "output_type": "stream",
     "text": [
      "<html><head><title>Title</title>\n"
     ]
    }
   ],
   "source": [
    "import re\n",
    "s = '<html><head><title>Title</title>'\n",
    "print(re.match('<.*>', s).group())"
   ]
  },
  {
   "cell_type": "code",
   "execution_count": 21,
   "metadata": {},
   "outputs": [
    {
     "name": "stdout",
     "output_type": "stream",
     "text": [
      "<html>\n"
     ]
    }
   ],
   "source": [
    "import re\n",
    "s = '<html><head><title>Title</title>'\n",
    "print(re.match('<.*?>', s).group())"
   ]
  },
  {
   "cell_type": "code",
   "execution_count": 22,
   "metadata": {},
   "outputs": [
    {
     "name": "stdout",
     "output_type": "stream",
     "text": [
      "colour socks and colour shoes\n",
      "colour socks and red shoes\n"
     ]
    }
   ],
   "source": [
    "import re\n",
    "p = re.compile('(blue|white|red)')\n",
    "print(p.sub('colour','blue socks and red shoes'))\n",
    "print(p.sub('colour','blue socks and red shoes', count=1))"
   ]
  },
  {
   "cell_type": "code",
   "execution_count": 40,
   "metadata": {},
   "outputs": [
    {
     "name": "stdout",
     "output_type": "stream",
     "text": [
      "Source List:  [1, 2, 3, 4, 5, 6, 700, 800]\n",
      "Result List:  [1, 4, 5, 800] [2, 3, 6, 700]\n",
      "Distance:  99\n",
      "-*-*-*-*-*-*-*-*-*-*-*-*-*-*-*-*-*-*-*-*-*-*-*-*-*-*-*-*-*-*-*-*-*-*-*-*-*-*-*-*\n",
      "Source List:  [1, 50, 90, 100, 10000, 10001]\n",
      "Result List:  [50, 90, 10000] [1, 100, 10001]\n",
      "Distance:  38\n",
      "-*-*-*-*-*-*-*-*-*-*-*-*-*-*-*-*-*-*-*-*-*-*-*-*-*-*-*-*-*-*-*-*-*-*-*-*-*-*-*-*\n",
      "Source List:  [1, 2, 3, 4, 5, 6, 7, 8, 9, 10]\n",
      "Result List:  [2, 3, 6, 7, 10] [1, 4, 5, 8, 9]\n",
      "Distance:  1\n",
      "-*-*-*-*-*-*-*-*-*-*-*-*-*-*-*-*-*-*-*-*-*-*-*-*-*-*-*-*-*-*-*-*-*-*-*-*-*-*-*-*\n",
      "Source List:  [1, 1, 2, 3, 29, 30, 210, 232, 12311, 12312]\n",
      "Result List:  [1, 3, 29, 232, 12311] [1, 2, 30, 210, 12312]\n",
      "Distance:  21\n",
      "-*-*-*-*-*-*-*-*-*-*-*-*-*-*-*-*-*-*-*-*-*-*-*-*-*-*-*-*-*-*-*-*-*-*-*-*-*-*-*-*\n"
     ]
    }
   ],
   "source": [
    "def mean( sorted_list ):\n",
    "    if not sorted_list:\n",
    "        return (([],[]))\n",
    "    big = sorted_list[-1]\n",
    "    small = sorted_list[-2]\n",
    "    big_list, small_list = mean(sorted_list[:-2])\n",
    "    big_list.append(small)\n",
    "    small_list.append(big)\n",
    "    big_list_sum = sum(big_list)\n",
    "    small_list_sum = sum(small_list)\n",
    "    if big_list_sum > small_list_sum:\n",
    "        return ( (big_list, small_list))\n",
    "    else:\n",
    "        return (( small_list, big_list))\n",
    "\n",
    "tests = [ \n",
    "    [1,2,3,4,5,6,700,800],\n",
    "    [10001,10000,100,90,50,1],\n",
    "    range(1, 11),\n",
    "    [12312, 12311, 232, 210, 30, 29, 3, 2, 1, 1]\n",
    "]\n",
    "for l in tests:\n",
    "    if isinstance(l,range):\n",
    "        l=[*l]\n",
    "    l.sort()\n",
    "    print\n",
    "    print(\"Source List: \", l)\n",
    "    l1,l2 = mean(l)\n",
    "    print(\"Result List: \", l1, l2)\n",
    "    print(\"Distance: \", abs(sum(l1)-sum(l2)))\n",
    "    print('-*'*40)"
   ]
  },
  {
   "cell_type": "code",
   "execution_count": 39,
   "metadata": {},
   "outputs": [
    {
     "name": "stdout",
     "output_type": "stream",
     "text": [
      "True\n"
     ]
    }
   ],
   "source": [
    "a = range(5)\n",
    "print(isinstance(a,range))"
   ]
  },
  {
   "cell_type": "code",
   "execution_count": 1,
   "metadata": {},
   "outputs": [
    {
     "name": "stdout",
     "output_type": "stream",
     "text": [
      "2\n",
      "1\n",
      "1\n"
     ]
    }
   ],
   "source": [
    "class Foo(object):\n",
    "    x = 1\n",
    "foo1 = Foo()\n",
    "foo1.x += 1\n",
    "foo2 = Foo()\n",
    "print (foo1.x) #2\n",
    "print (foo2.x) #1\n",
    "print (Foo.x)  #1"
   ]
  },
  {
   "cell_type": "code",
   "execution_count": 2,
   "metadata": {},
   "outputs": [
    {
     "name": "stdout",
     "output_type": "stream",
     "text": [
      "Tom\n",
      "Tom\n",
      "Jerry\n",
      "Tom\n",
      "Tom\n"
     ]
    }
   ],
   "source": [
    "class Student(object):\n",
    "    name = \"Tom\"\n",
    "\n",
    "s = Student() # create instance\n",
    "print(s.name) # print name attribute, because the instance have no \"name\" attribute, it will use class attribute\n",
    "print(Student.name) # print class attribute\n",
    "s.name = \"Jerry\" # bind attribute to instance\n",
    "print(s.name) # instance attribute has higher priority than class attribute, it will hide class attribute\n",
    "print(Student.name) # class attribute still can be accessed as it was not disappeared\n",
    "del s.name # delete instance attribute\n",
    "print(s.name) # call s.nam"
   ]
  },
  {
   "cell_type": "code",
   "execution_count": null,
   "metadata": {},
   "outputs": [],
   "source": []
  }
 ],
 "metadata": {
  "kernelspec": {
   "display_name": "Python 3",
   "language": "python",
   "name": "python3"
  },
  "language_info": {
   "codemirror_mode": {
    "name": "ipython",
    "version": 3
   },
   "file_extension": ".py",
   "mimetype": "text/x-python",
   "name": "python",
   "nbconvert_exporter": "python",
   "pygments_lexer": "ipython3",
   "version": "3.7.4"
  }
 },
 "nbformat": 4,
 "nbformat_minor": 2
}
