{
 "cells": [
  {
   "cell_type": "markdown",
   "metadata": {},
   "source": [
    "## 杨辉三角\n",
    "定义一个列表生成器triangles()，生成杨辉三角, 期待输出如右所示"
   ]
  },
  {
   "cell_type": "code",
   "execution_count": 7,
   "metadata": {},
   "outputs": [],
   "source": [
    "# 杨辉三角列表生成器定义\n",
    "def triangles():\n",
    "    ret = [1]\n",
    "    while len(ret)-1 < 10:\n",
    "        yield ret\n",
    "        ret = [ret[i] + ret[i+1] for i in range(len(ret)-1)]\n",
    "        ret.insert(0,1);\n",
    "        ret.append(1)"
   ]
  },
  {
   "cell_type": "code",
   "execution_count": 22,
   "metadata": {},
   "outputs": [],
   "source": [
    "### 练习\n",
    "def triangles2():\n",
    "    list_iter = [1]\n",
    "    while len(list_iter) < 11:\n",
    "        yield list_iter\n",
    "        list_iter = [list_iter[i]+list_iter[i+1] for i in range(len(list_iter)-1)]\n",
    "        list_iter = [1] + list_iter + [1]\n",
    "        "
   ]
  },
  {
   "cell_type": "code",
   "execution_count": 23,
   "metadata": {},
   "outputs": [
    {
     "name": "stdout",
     "output_type": "stream",
     "text": [
      "[1]\n",
      "[1, 1]\n",
      "[1, 2, 1]\n",
      "[1, 3, 3, 1]\n",
      "[1, 4, 6, 4, 1]\n",
      "[1, 5, 10, 10, 5, 1]\n",
      "[1, 6, 15, 20, 15, 6, 1]\n",
      "[1, 7, 21, 35, 35, 21, 7, 1]\n",
      "[1, 8, 28, 56, 70, 56, 28, 8, 1]\n",
      "[1, 9, 36, 84, 126, 126, 84, 36, 9, 1]\n",
      "test pass\n"
     ]
    }
   ],
   "source": [
    "# 测试代码\n",
    "n = 0; results = []\n",
    "for t in triangles2():\n",
    "    print(t); results.append(t); n=n+1\n",
    "    if n == 10:\n",
    "        break\n",
    "\n",
    "if results == [\n",
    "    [1],\n",
    "    [1,1],\n",
    "    [1,2,1],\n",
    "    [1,3,3,1],\n",
    "    [1,4,6,4,1],\n",
    "    [1,5,10,10,5,1],\n",
    "    [1,6,15,20,15,6,1],\n",
    "    [1,7,21,35,35,21,7,1],\n",
    "    [1,8,28,56,70,56,28,8,1],\n",
    "    [1,9,36,84,126,126,84,36,9,1]]:\n",
    "    print(\"test pass\")\n",
    "else:\n",
    "    print(\"test fail\")"
   ]
  },
  {
   "cell_type": "markdown",
   "metadata": {},
   "source": [
    "## 斐波拉切数列"
   ]
  },
  {
   "cell_type": "code",
   "execution_count": 4,
   "metadata": {},
   "outputs": [],
   "source": [
    "# 列表生成器实\n",
    "def fib_g(max):\n",
    "    n,a,b = 0,0,1\n",
    "    while n < max:\n",
    "        send_value = yield b # 列表生成器语句，返回b值\n",
    "        a,b = b,a+b\n",
    "        n = n+1\n",
    "    return 'done'"
   ]
  },
  {
   "cell_type": "code",
   "execution_count": 5,
   "metadata": {},
   "outputs": [
    {
     "name": "stdout",
     "output_type": "stream",
     "text": [
      "1 1 2\n",
      "3 5 8\n"
     ]
    }
   ],
   "source": [
    "g = fib_g(6)\n",
    "print(next(g),next(g),next(g))\n",
    "print(g.send(1),g.send(1),g.send(1))"
   ]
  },
  {
   "cell_type": "code",
   "execution_count": 6,
   "metadata": {},
   "outputs": [
    {
     "name": "stdout",
     "output_type": "stream",
     "text": [
      "1 1 2 3 5 8 generator return value done\n"
     ]
    }
   ],
   "source": [
    "g = fib_g(6)\n",
    "while True:\n",
    "    try:\n",
    "        x = next(g)\n",
    "        print(x,end=\" \")\n",
    "    except StopIteration as e:\n",
    "        print('generator return value', e.value)\n",
    "        break"
   ]
  },
  {
   "cell_type": "code",
   "execution_count": 4,
   "metadata": {},
   "outputs": [],
   "source": [
    "### 练习\n",
    "class fib():\n",
    "    def __init__(self, num):\n",
    "        self.a, self.b, self.n = 1,1,0\n",
    "        self.max = num\n",
    "    def __iter__(self):\n",
    "    # def iter(self):\n",
    "        return self\n",
    "    def __next__(self):\n",
    "    # def next(self):        \n",
    "        if (self.n < self.max):\n",
    "            temp = self.b\n",
    "            self.a, self.b = self.b, self.a + self.b            \n",
    "            self.n += 1\n",
    "            # yield temp\n",
    "            return temp\n",
    "        else:\n",
    "            raise StopIteration()\n",
    "            \n"
   ]
  },
  {
   "cell_type": "code",
   "execution_count": 7,
   "metadata": {},
   "outputs": [],
   "source": [
    "#ret = fib(10)\n",
    "#print(ret.next())"
   ]
  },
  {
   "cell_type": "code",
   "execution_count": 3,
   "metadata": {},
   "outputs": [
    {
     "name": "stdout",
     "output_type": "stream",
     "text": [
      "1\n",
      "2\n",
      "3\n",
      "5\n",
      "8\n",
      "13\n",
      "21\n",
      "34\n",
      "55\n",
      "89\n"
     ]
    }
   ],
   "source": [
    "for key in fib(10):\n",
    "    print(key)"
   ]
  },
  {
   "cell_type": "code",
   "execution_count": 8,
   "metadata": {},
   "outputs": [],
   "source": [
    "def fib(num):\n",
    "    n,a,b=0,1,1\n",
    "    while n < num:\n",
    "        a,b,n=b,a+b,n+1\n",
    "        yield a"
   ]
  },
  {
   "cell_type": "code",
   "execution_count": 9,
   "metadata": {},
   "outputs": [
    {
     "name": "stdout",
     "output_type": "stream",
     "text": [
      "1\n",
      "2\n",
      "3\n",
      "5\n",
      "8\n",
      "13\n",
      "21\n",
      "34\n",
      "55\n",
      "89\n"
     ]
    }
   ],
   "source": [
    "for i in fib(10):\n",
    "    print(i)"
   ]
  },
  {
   "cell_type": "code",
   "execution_count": null,
   "metadata": {},
   "outputs": [],
   "source": []
  }
 ],
 "metadata": {
  "kernelspec": {
   "display_name": "Python 3",
   "language": "python",
   "name": "python3"
  },
  "language_info": {
   "codemirror_mode": {
    "name": "ipython",
    "version": 3
   },
   "file_extension": ".py",
   "mimetype": "text/x-python",
   "name": "python",
   "nbconvert_exporter": "python",
   "pygments_lexer": "ipython3",
   "version": "3.7.4"
  }
 },
 "nbformat": 4,
 "nbformat_minor": 2
}
