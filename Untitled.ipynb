{
 "cells": [
  {
   "cell_type": "code",
   "execution_count": 2,
   "metadata": {},
   "outputs": [],
   "source": [
    "class Actress():\n",
    "    def __init__(self):\n",
    "        self.name = 'TianXin'\n",
    "        self.age = 5\n",
    "    def getAge(self):\n",
    "        return self._age\n",
    "    def setAge(self, age):\n",
    "        if age > 30:\n",
    "            raise ValueError\n",
    "        self._age = age\n",
    "class Actress():\n",
    "    def __init__(self):\n",
    "        self._name = 'TianXin'\n",
    "        self._age = 20\n",
    "    @property\n",
    "    def age(self):\n",
    "        return self._age\n",
    "    @age.setter\n",
    "    def age(self, age):\n",
    "        if age > 30:\n",
    "            raise ValueError\n",
    "        self._age = age\n",
    "\n",
    "actress= Actress()\n",
    "actress.name\n",
    "actress.age\n",
    "actress.name = 'NoName'\n",
    "actress.name\n",
    "\n",
    "actress.setAge(28)\n",
    "actress.getAge()\n",
    "actress.setAge(35)\n",
    "\n"
   ]
  },
  {
   "cell_type": "code",
   "execution_count": 3,
   "metadata": {
    "scrolled": true
   },
   "outputs": [
    {
     "data": {
      "text/plain": [
       "<function __main__.<lambda>(x)>"
      ]
     },
     "execution_count": 3,
     "metadata": {},
     "output_type": "execute_result"
    }
   ],
   "source": []
  },
  {
   "cell_type": "code",
   "execution_count": null,
   "metadata": {},
   "outputs": [],
   "source": []
  }
 ],
 "metadata": {
  "kernelspec": {
   "display_name": "Python 3",
   "language": "python",
   "name": "python3"
  },
  "language_info": {
   "codemirror_mode": {
    "name": "ipython",
    "version": 3
   },
   "file_extension": ".py",
   "mimetype": "text/x-python",
   "name": "python",
   "nbconvert_exporter": "python",
   "pygments_lexer": "ipython3",
   "version": "3.5.4"
  }
 },
 "nbformat": 4,
 "nbformat_minor": 2
}
