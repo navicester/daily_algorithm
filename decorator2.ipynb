{
 "cells": [
  {
   "cell_type": "markdown",
   "metadata": {},
   "source": [
    "实现一个装饰器，其对下面给定函数的执行时间进行统计，统计其执行了多少秒。运行时间打印出来即可。"
   ]
  },
  {
   "cell_type": "code",
   "execution_count": 1,
   "metadata": {},
   "outputs": [],
   "source": [
    "def func():\n",
    "    print(\"Inside func\")\n",
    "    print(\"Running ....\")\n",
    "    for i in range(5):\n",
    "        print(\"Counting {}\".format(i))\n",
    "        time.sleep(0.5)\n",
    "    print(\"Exit func\")"
   ]
  },
  {
   "cell_type": "markdown",
   "metadata": {},
   "source": [
    "给这个装饰器增加一个参数，用来指定func函数运行的次数。算出平均执行时间。把运行次数和平均运行时间打印出来。"
   ]
  },
  {
   "cell_type": "code",
   "execution_count": 10,
   "metadata": {},
   "outputs": [],
   "source": [
    "def wrapper(func):\n",
    "    def cal():\n",
    "        t1 = time.time()\n",
    "        func()\n",
    "        delta = time.time()-t1\n",
    "        print(\"time consuming {}\".format(delta))\n",
    "    return cal"
   ]
  },
  {
   "cell_type": "code",
   "execution_count": 11,
   "metadata": {},
   "outputs": [],
   "source": [
    "@wrapper\n",
    "def func():\n",
    "    print(\"Inside func\")\n",
    "    print(\"Running ....\")\n",
    "    for i in range(5):\n",
    "        print(\"Counting {}\".format(i))\n",
    "        time.sleep(0.5)\n",
    "    print(\"Exit func\")"
   ]
  },
  {
   "cell_type": "code",
   "execution_count": 12,
   "metadata": {},
   "outputs": [
    {
     "name": "stdout",
     "output_type": "stream",
     "text": [
      "Inside func\n",
      "Running ....\n",
      "Counting 0\n",
      "Counting 1\n",
      "Counting 2\n",
      "Counting 3\n",
      "Counting 4\n",
      "Exit func\n",
      "time consuming 2.501143217086792\n"
     ]
    }
   ],
   "source": [
    "import time\n",
    "func()"
   ]
  },
  {
   "cell_type": "code",
   "execution_count": 17,
   "metadata": {},
   "outputs": [],
   "source": [
    "def wrapper_param(times):    \n",
    "    def wrapper(func):\n",
    "        def cal():\n",
    "            consumed = 0\n",
    "            for i in range(times):\n",
    "                t1 = time.time()\n",
    "                func()\n",
    "                delta = time.time()-t1\n",
    "                consumed = consumed + delta\n",
    "                print(\"time consuming {}\".format(delta))\n",
    "            ave_consumed = consumed / times\n",
    "            print(\"run {} times, average time consuming {}\".format(times, ave_consumed))\n",
    "        return cal\n",
    "    return wrapper"
   ]
  },
  {
   "cell_type": "code",
   "execution_count": 18,
   "metadata": {},
   "outputs": [
    {
     "name": "stdout",
     "output_type": "stream",
     "text": [
      "Inside func\n",
      "Running ....\n",
      "Counting 0\n",
      "Counting 1\n",
      "Counting 2\n",
      "Counting 3\n",
      "Counting 4\n",
      "Exit func\n",
      "time consuming 2.501143217086792\n",
      "Inside func\n",
      "Running ....\n",
      "Counting 0\n",
      "Counting 1\n",
      "Counting 2\n",
      "Counting 3\n",
      "Counting 4\n",
      "Exit func\n",
      "time consuming 2.500142812728882\n",
      "Inside func\n",
      "Running ....\n",
      "Counting 0\n",
      "Counting 1\n",
      "Counting 2\n",
      "Counting 3\n",
      "Counting 4\n",
      "Exit func\n",
      "time consuming 2.501142978668213\n",
      "Inside func\n",
      "Running ....\n",
      "Counting 0\n",
      "Counting 1\n",
      "Counting 2\n",
      "Counting 3\n",
      "Counting 4\n",
      "Exit func\n",
      "time consuming 2.500143051147461\n",
      "Inside func\n",
      "Running ....\n",
      "Counting 0\n",
      "Counting 1\n",
      "Counting 2\n",
      "Counting 3\n",
      "Counting 4\n",
      "Exit func\n",
      "time consuming 2.500142812728882\n",
      "Inside func\n",
      "Running ....\n",
      "Counting 0\n",
      "Counting 1\n",
      "Counting 2\n",
      "Counting 3\n",
      "Counting 4\n",
      "Exit func\n",
      "time consuming 2.50014328956604\n",
      "Inside func\n",
      "Running ....\n",
      "Counting 0\n",
      "Counting 1\n",
      "Counting 2\n",
      "Counting 3\n",
      "Counting 4\n",
      "Exit func\n",
      "time consuming 2.500142812728882\n",
      "Inside func\n",
      "Running ....\n",
      "Counting 0\n",
      "Counting 1\n",
      "Counting 2\n",
      "Counting 3\n",
      "Counting 4\n",
      "Exit func\n",
      "time consuming 2.506143569946289\n",
      "Inside func\n",
      "Running ....\n",
      "Counting 0\n",
      "Counting 1\n",
      "Counting 2\n",
      "Counting 3\n",
      "Counting 4\n",
      "Exit func\n",
      "time consuming 2.500142812728882\n",
      "Inside func\n",
      "Running ....\n",
      "Counting 0\n",
      "Counting 1\n",
      "Counting 2\n",
      "Counting 3\n",
      "Counting 4\n",
      "Exit func\n",
      "time consuming 2.500143051147461\n",
      "run 10 times, average time consuming 2.5009430408477784\n"
     ]
    }
   ],
   "source": [
    "@wrapper_param(10)\n",
    "def func():\n",
    "    print(\"Inside func\")\n",
    "    print(\"Running ....\")\n",
    "    for i in range(5):\n",
    "        print(\"Counting {}\".format(i))\n",
    "        time.sleep(0.5)\n",
    "    print(\"Exit func\")\n",
    "\n",
    "import time\n",
    "func()    "
   ]
  },
  {
   "cell_type": "code",
   "execution_count": null,
   "metadata": {},
   "outputs": [],
   "source": []
  }
 ],
 "metadata": {
  "kernelspec": {
   "display_name": "Python 3",
   "language": "python",
   "name": "python3"
  },
  "language_info": {
   "codemirror_mode": {
    "name": "ipython",
    "version": 3
   },
   "file_extension": ".py",
   "mimetype": "text/x-python",
   "name": "python",
   "nbconvert_exporter": "python",
   "pygments_lexer": "ipython3",
   "version": "3.7.4"
  }
 },
 "nbformat": 4,
 "nbformat_minor": 2
}
