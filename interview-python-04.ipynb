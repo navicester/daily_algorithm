{
 "cells": [
  {
   "cell_type": "markdown",
   "metadata": {},
   "source": [
    "# 到底什么是Python?\n",
    "- Python是一种解释性语言。Python代码在运行之前不需要编译。其它解释性语言还包括PHP和Ruby。\n",
    "- Python是动态类型语言，指的是在声明变量时，不需要说明变量的类型。\n",
    "- Python非常适合面向对象的编程(OOP)，因为它支持通过组合(composition)与继承(inheritance)的方式定义类(class)。\n",
    "- Python中没有访问说明符(类似C++中的public和private)，这么设计的依据是“大家都是成年人了”。"
   ]
  },
  {
   "cell_type": "markdown",
   "metadata": {},
   "source": [
    "# 1、Python如何实现单例模式？"
   ]
  },
  {
   "cell_type": "markdown",
   "metadata": {},
   "source": [
    "## (1) 基类"
   ]
  },
  {
   "cell_type": "code",
   "execution_count": 15,
   "metadata": {},
   "outputs": [
    {
     "name": "stdout",
     "output_type": "stream",
     "text": [
      "True\n",
      "True\n",
      "True\n",
      "False\n"
     ]
    }
   ],
   "source": [
    "# 1. use meta class\n",
    "class SingletonClass(object):\n",
    "    def __new__(cls, *args, **kwargs):\n",
    "        if hasattr(cls, '_instance'):\n",
    "            return cls._instance\n",
    "        else:\n",
    "            cls._instance = super(SingletonClass,cls).__new__(cls,*args, **kwargs)\n",
    "            return cls._instance\n",
    "\n",
    "class MyClass(SingletonClass):\n",
    "    num = 1\n",
    "\n",
    "a = MyClass()\n",
    "b = MyClass()\n",
    "print(a.num is b.num)\n",
    "print(a is b)\n",
    "\n",
    "class MyClass2(object):\n",
    "    num = 1\n",
    "\n",
    "c = MyClass2()\n",
    "d = MyClass2()\n",
    "print(c.num is d.num)\n",
    "print(c is d)"
   ]
  },
  {
   "cell_type": "markdown",
   "metadata": {},
   "source": [
    "## (2) 装饰器"
   ]
  },
  {
   "cell_type": "code",
   "execution_count": 22,
   "metadata": {},
   "outputs": [
    {
     "name": "stdout",
     "output_type": "stream",
     "text": [
      "True\n",
      "True\n"
     ]
    }
   ],
   "source": [
    "# 2. use decorator\n",
    "def singleton(cls, *args, **kwargs):\n",
    "    _instance = {}\n",
    "    def getinstance():\n",
    "        if not cls in _instance:\n",
    "            _instance[cls] = cls(*args, **kwargs)\n",
    "        return _instance[cls]\n",
    "    return getinstance\n",
    "\n",
    "@singleton\n",
    "class MyClass():\n",
    "    num = 1\n",
    "\n",
    "a = MyClass()\n",
    "b = MyClass()\n",
    "print(a.num is b.num)\n",
    "print(a is b)\n"
   ]
  },
  {
   "cell_type": "markdown",
   "metadata": {},
   "source": [
    "## (3) 元类"
   ]
  },
  {
   "cell_type": "code",
   "execution_count": 45,
   "metadata": {},
   "outputs": [
    {
     "name": "stdout",
     "output_type": "stream",
     "text": [
      "True\n"
     ]
    }
   ],
   "source": [
    "class Singleton(type):\n",
    "    def __init__(cls, name, bases, dict):\n",
    "        super(Singleton, cls).__init__(name, bases, dict)    \n",
    "        cls.instance = None\n",
    "    def __call__(cls, *args, **kw):\n",
    "        if cls.instance is None:\n",
    "            cls.instance = super(Singleton, cls).__call__(*args, **kw)\n",
    "        return cls.instance\n",
    "\n",
    "class MyClass2(object):\n",
    "    __metaclass__ = Singleton ###???????\n",
    "    pass\n",
    "\n",
    "class MyClass(object, metaclass=Singleton):\n",
    "    pass\n",
    "\n",
    "a = MyClass()\n",
    "b = MyClass()\n",
    "# print(MyClass.instance)\n",
    "print(a is b)"
   ]
  },
  {
   "cell_type": "markdown",
   "metadata": {},
   "source": [
    "## (4) import方法\n",
    "\n",
    "作为python的模块是天然的单例模式"
   ]
  },
  {
   "cell_type": "code",
   "execution_count": null,
   "metadata": {},
   "outputs": [],
   "source": [
    "# mysingleton.py\n",
    "class My_Singleton(object):\n",
    "    def foo(self):\n",
    "        pass\n",
    "\n",
    "my_singleton = My_Singleton()\n",
    "\n",
    "# to use\n",
    "from mysingleton import my_singleton\n",
    "\n",
    "my_singleton.foo()"
   ]
  },
  {
   "cell_type": "markdown",
   "metadata": {},
   "source": [
    "## (5) 共享属性\n",
    "\n",
    "创建实例时把所有实例的__dict__指向同一个字典,这样它们具有相同的属性和方法."
   ]
  },
  {
   "cell_type": "code",
   "execution_count": 30,
   "metadata": {},
   "outputs": [],
   "source": [
    "class Borg(object):\n",
    "    _state = {}\n",
    "    def __new__(cls, *args, **kw):\n",
    "        ob = super(Borg, cls).__new__(cls, *args, **kw)\n",
    "        ob.__dict__ = cls._state\n",
    "        return ob\n",
    "\n",
    "class MyClass2(Borg):\n",
    "    a = 1"
   ]
  },
  {
   "cell_type": "markdown",
   "metadata": {},
   "source": [
    "# 2：什么是lambda函数？"
   ]
  },
  {
   "cell_type": "markdown",
   "metadata": {},
   "source": [
    "Python允许你定义一种单行的小函数。定义lambda函数的形式如下：\n",
    "\n",
    "> labmda 参数：表达式\n",
    "\n",
    "lambda函数默认返回表达式的值。你也可以将其赋值给一个变量。lambda函数可以接受任意个参数，包括可选参数，但是表达式只有一个："
   ]
  },
  {
   "cell_type": "code",
   "execution_count": 46,
   "metadata": {},
   "outputs": [
    {
     "data": {
      "text/plain": [
       "14"
      ]
     },
     "execution_count": 46,
     "metadata": {},
     "output_type": "execute_result"
    }
   ],
   "source": [
    ">>> g = lambda x, y: x*y\n",
    ">>> g(3,4)\n",
    "12\n",
    ">>> g = lambda x, y=0, z=0: x+y+z\n",
    ">>> g(1)\n",
    "1\n",
    ">>> g(3, 4, 7)\n",
    "14"
   ]
  },
  {
   "cell_type": "markdown",
   "metadata": {},
   "source": [
    "也能够直接使用lambda函数，不把它赋值给变量："
   ]
  },
  {
   "cell_type": "code",
   "execution_count": 48,
   "metadata": {},
   "outputs": [
    {
     "data": {
      "text/plain": [
       "14"
      ]
     },
     "execution_count": 48,
     "metadata": {},
     "output_type": "execute_result"
    }
   ],
   "source": [
    ">>> (lambda x,y=0,z=0:x+y+z)(3,5,6)\n",
    "14"
   ]
  },
  {
   "cell_type": "markdown",
   "metadata": {},
   "source": [
    "如果你的函数非常简单，只有一个表达式，不包含命令，可以考虑lambda函数。否则，你还是定义函数才对，毕竟函数没有这么多限制。"
   ]
  },
  {
   "cell_type": "markdown",
   "metadata": {},
   "source": [
    "# 3：Python是如何进行类型转换的？"
   ]
  },
  {
   "cell_type": "markdown",
   "metadata": {},
   "source": [
    "Python提供了将变量或值从一种类型转换成另一种类型的内置函数。\n",
    "\n",
    "int函数能够将符合数学格式数字型字符串转换成整数。否则，返回错误信息。"
   ]
  },
  {
   "cell_type": "code",
   "execution_count": null,
   "metadata": {},
   "outputs": [],
   "source": [
    "#!/usr/bin/python3.5 \n",
    "# -*- coding: utf-8 -*-  \n",
    "\n",
    "int(34)\n",
    "\n",
    "int(\"1234ab\") #不能转换成整数\n",
    "# ValueError: invalid literal for int(): 1234ab"
   ]
  },
  {
   "cell_type": "markdown",
   "metadata": {},
   "source": [
    "函数int也能够把浮点数转换成整数，但浮点数的小数部分被截去。"
   ]
  },
  {
   "cell_type": "code",
   "execution_count": 61,
   "metadata": {},
   "outputs": [
    {
     "data": {
      "text/plain": [
       "-2"
      ]
     },
     "execution_count": 61,
     "metadata": {},
     "output_type": "execute_result"
    }
   ],
   "source": [
    ">>> int(34.1234)\n",
    "34\n",
    ">>> int(-2.46)\n",
    "-2"
   ]
  },
  {
   "cell_type": "markdown",
   "metadata": {},
   "source": [
    "函数float将整数和字符串转换成浮点数："
   ]
  },
  {
   "cell_type": "code",
   "execution_count": 64,
   "metadata": {},
   "outputs": [
    {
     "data": {
      "text/plain": [
       "1.111111"
      ]
     },
     "execution_count": 64,
     "metadata": {},
     "output_type": "execute_result"
    }
   ],
   "source": [
    ">>> float('12')\n",
    "12.0\n",
    ">>> float('1.11111')\n",
    "1.111111"
   ]
  },
  {
   "cell_type": "markdown",
   "metadata": {},
   "source": [
    "函数str将数字转换成字符："
   ]
  },
  {
   "cell_type": "code",
   "execution_count": 76,
   "metadata": {},
   "outputs": [
    {
     "data": {
      "text/plain": [
       "'76.765'"
      ]
     },
     "execution_count": 76,
     "metadata": {},
     "output_type": "execute_result"
    }
   ],
   "source": [
    ">>> str(98)\n",
    "'98'\n",
    "\n",
    ">>> str(\"76.765\")\n",
    "'76.765'"
   ]
  },
  {
   "cell_type": "markdown",
   "metadata": {},
   "source": [
    "整数1和浮点数1.0在python中是不同的。虽然它们的值相等的，但却属于不同的类型。这两个数在计算机的存储形式也是不一样。"
   ]
  },
  {
   "cell_type": "markdown",
   "metadata": {},
   "source": [
    "# 4：Python如何定义一个函数"
   ]
  },
  {
   "cell_type": "markdown",
   "metadata": {},
   "source": [
    "函数的定义形式如下：\n",
    "```\n",
    "def <name>(arg1, arg2,… argN):\n",
    "<statements>\n",
    "```"
   ]
  },
  {
   "cell_type": "markdown",
   "metadata": {},
   "source": [
    "函数的名字也必须以字母开头，可以包括下划线“ ”,但不能把Python的关键字定义成函数的名字。函数内的语句数量是任意的，每个语句至少有一个空格的缩进，以表示此语句属于这个函数的。缩进结束的地方，函数自然结束。\n",
    "\n",
    "下面定义了一个两个数相加的函数："
   ]
  },
  {
   "cell_type": "code",
   "execution_count": 79,
   "metadata": {},
   "outputs": [
    {
     "name": "stdout",
     "output_type": "stream",
     "text": [
      "1 + 2 = 3\n"
     ]
    }
   ],
   "source": [
    ">>> def add(p1, p2):\n",
    "        print(p1, \"+\", p2, \"=\", p1+p2)\n",
    "\n",
    ">>> add(1, 2)\n",
    "#1 + 2 = 3"
   ]
  },
  {
   "cell_type": "markdown",
   "metadata": {},
   "source": [
    "函数的目的是把一些复杂的操作隐藏，来简化程序的结构，使其容易阅读。函数在调用前，必须先定义。也可以在一个函数内部定义函数，内部函数只有在外部函数调用时才能够被执行。程序调用函数时，转到函数内部执行函数内部的语句，函数执行完毕后，返回到它离开程序的地方，执行程序的下一条语句。"
   ]
  },
  {
   "cell_type": "markdown",
   "metadata": {},
   "source": [
    "# 5：Python是如何进行内存管理的？"
   ]
  },
  {
   "cell_type": "markdown",
   "metadata": {},
   "source": [
    "Python的内存管理是由Python得解释器负责的，开发人员可以从内存管理事务中解放出来，致力于应用程序的开发，这样就使得开发的程序错误更少，程序更健壮，开发周期更短"
   ]
  },
  {
   "cell_type": "markdown",
   "metadata": {},
   "source": [
    "# 6：如何反序的迭代一个序列？"
   ]
  },
  {
   "cell_type": "markdown",
   "metadata": {},
   "source": [
    "how do I iterate over a sequence in reverse order\n",
    "\n",
    "如果是一个list, 最快的解决方案是："
   ]
  },
  {
   "cell_type": "code",
   "execution_count": null,
   "metadata": {},
   "outputs": [],
   "source": [
    "list.reverse()\n",
    "try:\n",
    "    for x in list:\n",
    "        # \"do something with x\"\n",
    "        pass\n",
    "finally:\n",
    "    list.reverse()"
   ]
  },
  {
   "cell_type": "markdown",
   "metadata": {},
   "source": [
    "如果不是list, 最通用但是稍慢的解决方案是："
   ]
  },
  {
   "cell_type": "code",
   "execution_count": null,
   "metadata": {},
   "outputs": [],
   "source": [
    "for i in range(len(sequence)-1, -1, -1):\n",
    "x = sequence[i]\n",
    "# <do something with x>"
   ]
  },
  {
   "cell_type": "markdown",
   "metadata": {},
   "source": [
    "# 7：Python里面如何实现tuple和list的转换？"
   ]
  },
  {
   "cell_type": "markdown",
   "metadata": {},
   "source": [
    "函数tuple(seq)可以把所有可迭代的(iterable)序列转换成一个tuple, 元素不变，排序也不变。\n",
    "例如，tuple([1,2,3])返回(1,2,3), tuple('abc')返回('a'.'b','c').如果参数已经是一个tuple的话，函数不做任何拷贝而直接返回原来的对象，所以在不确定对象是不是tuple的时候来调用tuple()函数也不是很耗费的。\n",
    "函数list(seq)可以把所有的序列和可迭代的对象转换成一个list,元素不变，排序也不变。\n",
    "例如 list([1,2,3])返回(1,2,3), list('abc')返回['a', 'b', 'c']。如果参数是一个list, 她会像set[:]一样做一个拷贝\n"
   ]
  },
  {
   "cell_type": "markdown",
   "metadata": {},
   "source": [
    "# 8：Python面试题：请写出一段Python代码实现删除一个list里面的重复元素"
   ]
  },
  {
   "cell_type": "markdown",
   "metadata": {},
   "source": [
    "## (1) set"
   ]
  },
  {
   "cell_type": "code",
   "execution_count": 81,
   "metadata": {},
   "outputs": [
    {
     "data": {
      "text/plain": [
       "[1, 3, 4, 5, 6, 7, 9]"
      ]
     },
     "execution_count": 81,
     "metadata": {},
     "output_type": "execute_result"
    }
   ],
   "source": [
    "list_a = [1,3,6,7,9,6,5,4,4,3]\n",
    "\n",
    "list_b = list(set(list_a))\n",
    "list_b"
   ]
  },
  {
   "cell_type": "markdown",
   "metadata": {},
   "source": [
    "## (2) dict"
   ]
  },
  {
   "cell_type": "code",
   "execution_count": 82,
   "metadata": {},
   "outputs": [
    {
     "data": {
      "text/plain": [
       "dict_keys([1, 3, 4, 5, 6, 7, 9])"
      ]
     },
     "execution_count": 82,
     "metadata": {},
     "output_type": "execute_result"
    }
   ],
   "source": [
    "list_a = [1,3,6,7,9,6,5,4,4,3]\n",
    "\n",
    "list_b = {}.fromkeys(list_a).keys()\n",
    "list_b"
   ]
  },
  {
   "cell_type": "markdown",
   "metadata": {},
   "source": [
    "## (3) sort"
   ]
  },
  {
   "cell_type": "code",
   "execution_count": 87,
   "metadata": {},
   "outputs": [
    {
     "data": {
      "text/plain": [
       "[1, 3, 4, 5, 6, 7, 9]"
      ]
     },
     "execution_count": 87,
     "metadata": {},
     "output_type": "execute_result"
    }
   ],
   "source": [
    "list_a = [1,3,6,7,9,6,5,4,4,3]\n",
    "\n",
    "list_b = list(set(list_a))\n",
    "\n",
    "# list_b.sort(key=list_a.index)\n",
    "\n",
    "sorted(list_b, key=list_a.index)\n",
    "list_b"
   ]
  },
  {
   "cell_type": "markdown",
   "metadata": {},
   "source": [
    "## (4) list generator"
   ]
  },
  {
   "cell_type": "code",
   "execution_count": 89,
   "metadata": {},
   "outputs": [
    {
     "data": {
      "text/plain": [
       "([1, 3, 6, 7, 9, 5, 4], [None, None, None, None, None, None, None])"
      ]
     },
     "execution_count": 89,
     "metadata": {},
     "output_type": "execute_result"
    }
   ],
   "source": [
    "list_a = [1,3,6,7,9,6,5,4,4,3]\n",
    "\n",
    "list_b = []\n",
    "list_c = [list_b.append(item) for item in list_a if not item in list_b]\n",
    "\n",
    "list_b, list_c"
   ]
  },
  {
   "cell_type": "code",
   "execution_count": null,
   "metadata": {},
   "outputs": [],
   "source": []
  }
 ],
 "metadata": {
  "kernelspec": {
   "display_name": "Python 3",
   "language": "python",
   "name": "python3"
  },
  "language_info": {
   "codemirror_mode": {
    "name": "ipython",
    "version": 3
   },
   "file_extension": ".py",
   "mimetype": "text/x-python",
   "name": "python",
   "nbconvert_exporter": "python",
   "pygments_lexer": "ipython3",
   "version": "3.5.4"
  }
 },
 "nbformat": 4,
 "nbformat_minor": 2
}
